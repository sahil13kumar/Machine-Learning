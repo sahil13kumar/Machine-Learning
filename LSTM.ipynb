{
 "cells": [
  {
   "cell_type": "code",
   "execution_count": 52,
   "metadata": {},
   "outputs": [],
   "source": [
    "import pandas as pd\n",
    "import numpy as np\n",
    "%matplotlib inline\n",
    "import matplotlib.pyplot as plt\n",
    "from sklearn.preprocessing import MinMaxScaler\n",
    "from sklearn.metrics import r2_score\n",
    "from keras.models import Sequential\n",
    "from keras.layers import Dense\n",
    "from keras.callbacks import EarlyStopping\n",
    "from keras.optimizers import Adam\n",
    "from keras.layers import LSTM,GRU"
   ]
  },
  {
   "cell_type": "code",
   "execution_count": 6,
   "metadata": {},
   "outputs": [],
   "source": [
    "df= pd.read_csv(\"file4.csv\",na_values=['null'],index_col='Arrival_Date',parse_dates=True,infer_datetime_format=True)"
   ]
  },
  {
   "cell_type": "code",
   "execution_count": 7,
   "metadata": {},
   "outputs": [
    {
     "data": {
      "text/html": [
       "<div>\n",
       "<style scoped>\n",
       "    .dataframe tbody tr th:only-of-type {\n",
       "        vertical-align: middle;\n",
       "    }\n",
       "\n",
       "    .dataframe tbody tr th {\n",
       "        vertical-align: top;\n",
       "    }\n",
       "\n",
       "    .dataframe thead th {\n",
       "        text-align: right;\n",
       "    }\n",
       "</style>\n",
       "<table border=\"1\" class=\"dataframe\">\n",
       "  <thead>\n",
       "    <tr style=\"text-align: right;\">\n",
       "      <th></th>\n",
       "      <th>Max_x0020_Price</th>\n",
       "    </tr>\n",
       "    <tr>\n",
       "      <th>Arrival_Date</th>\n",
       "      <th></th>\n",
       "    </tr>\n",
       "  </thead>\n",
       "  <tbody>\n",
       "    <tr>\n",
       "      <td>2003-11-01</td>\n",
       "      <td>1980</td>\n",
       "    </tr>\n",
       "    <tr>\n",
       "      <td>2003-11-03</td>\n",
       "      <td>2500</td>\n",
       "    </tr>\n",
       "    <tr>\n",
       "      <td>2003-11-03</td>\n",
       "      <td>2400</td>\n",
       "    </tr>\n",
       "    <tr>\n",
       "      <td>2003-11-03</td>\n",
       "      <td>2600</td>\n",
       "    </tr>\n",
       "    <tr>\n",
       "      <td>2003-11-04</td>\n",
       "      <td>2400</td>\n",
       "    </tr>\n",
       "    <tr>\n",
       "      <td>...</td>\n",
       "      <td>...</td>\n",
       "    </tr>\n",
       "    <tr>\n",
       "      <td>2015-03-12</td>\n",
       "      <td>4150</td>\n",
       "    </tr>\n",
       "    <tr>\n",
       "      <td>2016-04-24</td>\n",
       "      <td>4500</td>\n",
       "    </tr>\n",
       "    <tr>\n",
       "      <td>2016-04-25</td>\n",
       "      <td>4600</td>\n",
       "    </tr>\n",
       "    <tr>\n",
       "      <td>2016-04-26</td>\n",
       "      <td>4700</td>\n",
       "    </tr>\n",
       "    <tr>\n",
       "      <td>2016-04-28</td>\n",
       "      <td>4600</td>\n",
       "    </tr>\n",
       "  </tbody>\n",
       "</table>\n",
       "<p>2611 rows × 1 columns</p>\n",
       "</div>"
      ],
      "text/plain": [
       "              Max_x0020_Price\n",
       "Arrival_Date                 \n",
       "2003-11-01               1980\n",
       "2003-11-03               2500\n",
       "2003-11-03               2400\n",
       "2003-11-03               2600\n",
       "2003-11-04               2400\n",
       "...                       ...\n",
       "2015-03-12               4150\n",
       "2016-04-24               4500\n",
       "2016-04-25               4600\n",
       "2016-04-26               4700\n",
       "2016-04-28               4600\n",
       "\n",
       "[2611 rows x 1 columns]"
      ]
     },
     "execution_count": 7,
     "metadata": {},
     "output_type": "execute_result"
    }
   ],
   "source": [
    "df"
   ]
  },
  {
   "cell_type": "code",
   "execution_count": 8,
   "metadata": {},
   "outputs": [],
   "source": [
    "split_date = pd.Timestamp('13-02-2012')"
   ]
  },
  {
   "cell_type": "code",
   "execution_count": 9,
   "metadata": {},
   "outputs": [
    {
     "data": {
      "text/plain": [
       "<matplotlib.axes._subplots.AxesSubplot at 0x1acaa7fccc8>"
      ]
     },
     "execution_count": 9,
     "metadata": {},
     "output_type": "execute_result"
    },
    {
     "data": {
      "image/png": "[encoded data removed]",
      "text/plain": [
       "<Figure size 432x288 with 1 Axes>"
      ]
     },
     "metadata": {
      "needs_background": "light"
     },
     "output_type": "display_data"
    }
   ],
   "source": [
    "df.plot()"
   ]
  },
  {
   "cell_type": "code",
   "execution_count": 10,
   "metadata": {},
   "outputs": [],
   "source": [
    "split_date = pd.Timestamp('2012-02-13')"
   ]
  },
  {
   "cell_type": "code",
   "execution_count": 11,
   "metadata": {},
   "outputs": [
    {
     "data": {
      "text/plain": [
       "<Figure size 720x432 with 0 Axes>"
      ]
     },
     "metadata": {},
     "output_type": "display_data"
    },
    {
     "data": {
      "image/png": "[encoded data removed]",
      "text/plain": [
       "<Figure size 432x288 with 1 Axes>"
      ]
     },
     "metadata": {
      "needs_background": "light"
     },
     "output_type": "display_data"
    }
   ],
   "source": [
    "train = df.loc[:split_date]\n",
    "test = df.loc[split_date:]\n",
    "plt.figure(figsize=(10, 6))\n",
    "ax = train.plot()\n",
    "test.plot(ax=ax)\n",
    "plt.legend(['train', 'test']);"
   ]
  },
  {
   "cell_type": "code",
   "execution_count": 12,
   "metadata": {},
   "outputs": [],
   "source": [
    "train = pd.DataFrame(train)\n",
    "test = pd.DataFrame(test)"
   ]
  },
  {
   "cell_type": "code",
   "execution_count": 13,
   "metadata": {},
   "outputs": [],
   "source": [
    "scaler = MinMaxScaler(feature_range=(-1, 1))\n",
    "train_sc = scaler.fit_transform(train)\n",
    "test_sc = scaler.transform(test)"
   ]
  },
  {
   "cell_type": "code",
   "execution_count": null,
   "metadata": {},
   "outputs": [],
   "source": []
  },
  {
   "cell_type": "code",
   "execution_count": null,
   "metadata": {},
   "outputs": [],
   "source": []
  },
  {
   "cell_type": "code",
   "execution_count": 14,
   "metadata": {},
   "outputs": [],
   "source": [
    "X_train = train[:-1]\n",
    "y_train = train[1:]\n",
    "\n",
    "X_test = test[:-1]\n",
    "y_test = test[1:]"
   ]
  },
  {
   "cell_type": "code",
   "execution_count": null,
   "metadata": {},
   "outputs": [],
   "source": []
  },
  {
   "cell_type": "code",
   "execution_count": 11,
   "metadata": {
    "scrolled": true
   },
   "outputs": [
    {
     "name": "stdout",
     "output_type": "stream",
     "text": [
      "Epoch 1/100\n",
      "2261/2261 [==============================] - 2s 770us/step - loss: 533927.3887\n",
      "Epoch 2/100\n",
      "2261/2261 [==============================] - 2s 782us/step - loss: 96041.1920\n",
      "Epoch 3/100\n",
      "2261/2261 [==============================] - 2s 733us/step - loss: 96035.9291\n",
      "Epoch 4/100\n",
      "2261/2261 [==============================] - 2s 737us/step - loss: 96023.3524\n",
      "Epoch 5/100\n",
      "2261/2261 [==============================] - 2s 736us/step - loss: 96009.9014\n",
      "Epoch 6/100\n",
      "2261/2261 [==============================] - 2s 738us/step - loss: 95996.3773\n",
      "Epoch 7/100\n",
      "2261/2261 [==============================] - 2s 797us/step - loss: 95982.8824\n",
      "Epoch 8/100\n",
      "2261/2261 [==============================] - 2s 880us/step - loss: 95969.4124\n",
      "Epoch 9/100\n",
      "2261/2261 [==============================] - 2s 791us/step - loss: 95955.9835\n",
      "Epoch 10/100\n",
      "2261/2261 [==============================] - 2s 792us/step - loss: 95942.5806\n",
      "Epoch 11/100\n",
      "2261/2261 [==============================] - 2s 929us/step - loss: 95929.2216\n",
      "Epoch 12/100\n",
      "2261/2261 [==============================] - 2s 858us/step - loss: 95915.8728\n",
      "Epoch 13/100\n",
      "2261/2261 [==============================] - 2s 872us/step - loss: 95902.5684\n",
      "Epoch 14/100\n",
      "2261/2261 [==============================] - 2s 972us/step - loss: 95889.2937\n",
      "Epoch 15/100\n",
      "2261/2261 [==============================] - 2s 745us/step - loss: 95876.0474\n",
      "Epoch 16/100\n",
      "2261/2261 [==============================] - 2s 774us/step - loss: 95862.8239\n",
      "Epoch 17/100\n",
      "2261/2261 [==============================] - 2s 812us/step - loss: 95849.6386\n",
      "Epoch 18/100\n",
      "2261/2261 [==============================] - 2s 743us/step - loss: 95836.4817\n",
      "Epoch 19/100\n",
      "2261/2261 [==============================] - 2s 745us/step - loss: 95823.3460\n",
      "Epoch 20/100\n",
      "2261/2261 [==============================] - 2s 755us/step - loss: 95810.2563\n",
      "Epoch 21/100\n",
      "2261/2261 [==============================] - 2s 950us/step - loss: 95797.1777\n",
      "Epoch 22/100\n",
      "2261/2261 [==============================] - 2s 1ms/step - loss: 95784.1269\n",
      "Epoch 23/100\n",
      "2261/2261 [==============================] - 2s 829us/step - loss: 95771.1153\n",
      "Epoch 24/100\n",
      "2261/2261 [==============================] - ETA: 0s - loss: 97059.110 - 2s 729us/step - loss: 95758.1203\n",
      "Epoch 25/100\n",
      "2261/2261 [==============================] - 2s 836us/step - loss: 95745.1563\n",
      "Epoch 26/100\n",
      "2261/2261 [==============================] - 2s 860us/step - loss: 95732.2208\n",
      "Epoch 27/100\n",
      "2261/2261 [==============================] - 2s 822us/step - loss: 95719.3071\n",
      "Epoch 28/100\n",
      "2261/2261 [==============================] - 2s 1ms/step - loss: 95706.4131\n",
      "Epoch 29/100\n",
      "2261/2261 [==============================] - 2s 818us/step - loss: 95693.5556\n",
      "Epoch 30/100\n",
      "2261/2261 [==============================] - 2s 920us/step - loss: 95680.7199\n",
      "Epoch 31/100\n",
      "2261/2261 [==============================] - 2s 795us/step - loss: 95667.9037\n",
      "Epoch 32/100\n",
      "2261/2261 [==============================] - 2s 698us/step - loss: 95655.1165\n",
      "Epoch 33/100\n",
      "2261/2261 [==============================] - 2s 731us/step - loss: 95642.3462\n",
      "Epoch 34/100\n",
      "2261/2261 [==============================] - 2s 799us/step - loss: 95629.6031\n",
      "Epoch 35/100\n",
      "2261/2261 [==============================] - 2s 760us/step - loss: 95616.8797\n",
      "Epoch 36/100\n",
      "2261/2261 [==============================] - 2s 676us/step - loss: 95604.1876\n",
      "Epoch 37/100\n",
      "2261/2261 [==============================] - 2s 793us/step - loss: 95591.5082\n",
      "Epoch 38/100\n",
      "2261/2261 [==============================] - 2s 826us/step - loss: 95578.8521\n",
      "Epoch 39/100\n",
      "2261/2261 [==============================] - 2s 751us/step - loss: 95566.2256\n",
      "Epoch 40/100\n",
      "2261/2261 [==============================] - 2s 753us/step - loss: 95553.6140\n",
      "Epoch 41/100\n",
      "2261/2261 [==============================] - 2s 747us/step - loss: 95541.0209\n",
      "Epoch 42/100\n",
      "2261/2261 [==============================] - 2s 780us/step - loss: 95528.4569\n",
      "Epoch 43/100\n",
      "2261/2261 [==============================] - 2s 808us/step - loss: 95515.8991\n",
      "Epoch 44/100\n",
      "2261/2261 [==============================] - 2s 797us/step - loss: 95503.3720\n",
      "Epoch 45/100\n",
      "2261/2261 [==============================] - 2s 739us/step - loss: 95490.8503\n",
      "Epoch 46/100\n",
      "2261/2261 [==============================] - 2s 755us/step - loss: 95478.3616\n",
      "Epoch 47/100\n",
      "2261/2261 [==============================] - 2s 751us/step - loss: 95465.8817\n",
      "Epoch 48/100\n",
      "2261/2261 [==============================] - 2s 751us/step - loss: 95453.4262\n",
      "Epoch 49/100\n",
      "2261/2261 [==============================] - 2s 748us/step - loss: 95440.9868\n",
      "Epoch 50/100\n",
      "2261/2261 [==============================] - 2s 755us/step - loss: 95428.5659\n",
      "Epoch 51/100\n",
      "2261/2261 [==============================] - 2s 748us/step - loss: 95416.1511\n",
      "Epoch 52/100\n",
      "2261/2261 [==============================] - 2s 772us/step - loss: 95403.7652\n",
      "Epoch 53/100\n",
      "2261/2261 [==============================] - 2s 760us/step - loss: 95391.3826\n",
      "Epoch 54/100\n",
      "2261/2261 [==============================] - 2s 744us/step - loss: 95379.0230\n",
      "Epoch 55/100\n",
      "2261/2261 [==============================] - 2s 751us/step - loss: 95366.6770\n",
      "Epoch 56/100\n",
      "2261/2261 [==============================] - 2s 750us/step - loss: 95354.3449\n",
      "Epoch 57/100\n",
      "2261/2261 [==============================] - 2s 747us/step - loss: 95342.0272\n",
      "Epoch 58/100\n",
      "2261/2261 [==============================] - 2s 744us/step - loss: 95329.7221\n",
      "Epoch 59/100\n",
      "2261/2261 [==============================] - 2s 765us/step - loss: 95317.4303\n",
      "Epoch 60/100\n",
      "2261/2261 [==============================] - 2s 754us/step - loss: 95305.1447\n",
      "Epoch 61/100\n",
      "2261/2261 [==============================] - 2s 746us/step - loss: 95292.8717\n",
      "Epoch 62/100\n",
      "2261/2261 [==============================] - 2s 756us/step - loss: 95280.6155\n",
      "Epoch 63/100\n",
      "2261/2261 [==============================] - 2s 766us/step - loss: 95268.3751\n",
      "Epoch 64/100\n",
      "2261/2261 [==============================] - 2s 778us/step - loss: 95256.1346\n",
      "Epoch 65/100\n",
      "2261/2261 [==============================] - 2s 767us/step - loss: 95243.9047\n",
      "Epoch 66/100\n",
      "2261/2261 [==============================] - 2s 743us/step - loss: 95231.6890\n",
      "Epoch 67/100\n",
      "2261/2261 [==============================] - 2s 757us/step - loss: 95219.4814\n",
      "Epoch 68/100\n",
      "2261/2261 [==============================] - 2s 792us/step - loss: 95207.2686\n",
      "Epoch 69/100\n",
      "2261/2261 [==============================] - 2s 795us/step - loss: 95195.0767\n",
      "Epoch 70/100\n",
      "2261/2261 [==============================] - 2s 751us/step - loss: 95182.8926\n",
      "Epoch 71/100\n",
      "2261/2261 [==============================] - 2s 755us/step - loss: 95170.7133\n",
      "Epoch 72/100\n",
      "2261/2261 [==============================] - 2s 763us/step - loss: 95158.5294\n",
      "Epoch 73/100\n",
      "2261/2261 [==============================] - 2s 744us/step - loss: 95146.3619\n",
      "Epoch 74/100\n",
      "2261/2261 [==============================] - 2s 749us/step - loss: 95134.1946\n",
      "Epoch 75/100\n",
      "2261/2261 [==============================] - 2s 778us/step - loss: 95122.0320\n",
      "Epoch 76/100\n",
      "2261/2261 [==============================] - 2s 774us/step - loss: 95109.8749\n",
      "Epoch 77/100\n",
      "2261/2261 [==============================] - 2s 748us/step - loss: 95097.7039\n",
      "Epoch 78/100\n",
      "2261/2261 [==============================] - 2s 773us/step - loss: 95085.5574\n",
      "Epoch 79/100\n",
      "2261/2261 [==============================] - 2s 750us/step - loss: 95073.4060\n",
      "Epoch 80/100\n",
      "2261/2261 [==============================] - 2s 792us/step - loss: 95061.2442\n",
      "Epoch 81/100\n",
      "2261/2261 [==============================] - 2s 766us/step - loss: 95049.0895\n",
      "Epoch 82/100\n",
      "2261/2261 [==============================] - 2s 772us/step - loss: 95036.9306\n",
      "Epoch 83/100\n",
      "2261/2261 [==============================] - 2s 787us/step - loss: 95024.7704\n",
      "Epoch 84/100\n",
      "2261/2261 [==============================] - 2s 766us/step - loss: 95012.6036\n",
      "Epoch 85/100\n",
      "2261/2261 [==============================] - 2s 760us/step - loss: 95000.4354\n",
      "Epoch 86/100\n",
      "2261/2261 [==============================] - 2s 764us/step - loss: 94988.2692\n",
      "Epoch 87/100\n",
      "2261/2261 [==============================] - 2s 753us/step - loss: 94976.0835\n",
      "Epoch 88/100\n",
      "2261/2261 [==============================] - 2s 772us/step - loss: 94963.8948\n",
      "Epoch 89/100\n",
      "2261/2261 [==============================] - 2s 815us/step - loss: 94951.7108\n",
      "Epoch 90/100\n",
      "2261/2261 [==============================] - 2s 848us/step - loss: 94939.5191\n",
      "Epoch 91/100\n",
      "2261/2261 [==============================] - 2s 962us/step - loss: 94927.2986\n",
      "Epoch 92/100\n",
      "2261/2261 [==============================] - 2s 1ms/step - loss: 94915.0803\n",
      "Epoch 93/100\n",
      "2261/2261 [==============================] - 2s 900us/step - loss: 94902.8489\n",
      "Epoch 94/100\n",
      "2261/2261 [==============================] - 2s 863us/step - loss: 94890.5978\n",
      "Epoch 95/100\n",
      "2261/2261 [==============================] - 2s 848us/step - loss: 94878.3296\n",
      "Epoch 96/100\n",
      "2261/2261 [==============================] - 2s 917us/step - loss: 94866.0643\n",
      "Epoch 97/100\n",
      "2261/2261 [==============================] - 2s 799us/step - loss: 94853.7671\n",
      "Epoch 98/100\n",
      "2261/2261 [==============================] - 2s 794us/step - loss: 94841.4543\n",
      "Epoch 99/100\n",
      "2261/2261 [==============================] - 2s 1ms/step - loss: 94829.1204\n",
      "Epoch 100/100\n",
      "2261/2261 [==============================] - 2s 913us/step - loss: 94816.7598\n"
     ]
    }
   ],
   "source": [
    "nn_model = Sequential()\n",
    "nn_model.add(Dense(12, input_dim=1, activation='relu'))\n",
    "nn_model.add(Dense(1))\n",
    "nn_model.compile(loss='mean_squared_error', optimizer='adam')\n",
    "#early_stop = EarlyStopping(monitor='loss', patience=2, verbose=1)\n",
    "history = nn_model.fit(X_train, y_train, epochs=100, batch_size=1, verbose=1,shuffle=False)"
   ]
  },
  {
   "cell_type": "code",
   "execution_count": 12,
   "metadata": {},
   "outputs": [
    {
     "name": "stdout",
     "output_type": "stream",
     "text": [
      "The R2 score on the Train set is:\t0.861\n",
      "The R2 score on the Test set is:\t0.829\n"
     ]
    }
   ],
   "source": [
    "y_pred_test_nn = nn_model.predict(X_test)\n",
    "y_train_pred_nn = nn_model.predict(X_train)\n",
    "print(\"The R2 score on the Train set is:\\t{:0.3f}\".format(r2_score(y_train, y_train_pred_nn)))\n",
    "print(\"The R2 score on the Test set is:\\t{:0.3f}\".format(r2_score(y_test, y_pred_test_nn)))"
   ]
  },
  {
   "cell_type": "code",
   "execution_count": 14,
   "metadata": {},
   "outputs": [
    {
     "name": "stdout",
     "output_type": "stream",
     "text": [
      "350/350 [==============================] - 0s 974us/step\n",
      "NN: 37854.332024\n"
     ]
    }
   ],
   "source": [
    "nn_test_mse = nn_model.evaluate(X_test, y_test, batch_size=1)\n",
    "#lstm_test_mse = lstm_model.evaluate(X_test_lmse, y_test, batch_size=1)\n",
    "print('NN: %f'%nn_test_mse)\n",
    "#print('LSTM: %f'%lstm_test_mse)"
   ]
  },
  {
   "cell_type": "code",
   "execution_count": null,
   "metadata": {},
   "outputs": [],
   "source": []
  },
  {
   "cell_type": "code",
   "execution_count": null,
   "metadata": {},
   "outputs": [],
   "source": []
  },
  {
   "cell_type": "code",
   "execution_count": null,
   "metadata": {},
   "outputs": [],
   "source": []
  },
  {
   "cell_type": "code",
   "execution_count": null,
   "metadata": {},
   "outputs": [],
   "source": []
  },
  {
   "cell_type": "code",
   "execution_count": null,
   "metadata": {},
   "outputs": [],
   "source": []
  },
  {
   "cell_type": "markdown",
   "metadata": {},
   "source": [
    "# LSTM"
   ]
  },
  {
   "cell_type": "code",
   "execution_count": 59,
   "metadata": {},
   "outputs": [
    {
     "name": "stderr",
     "output_type": "stream",
     "text": [
      "C:\\Users\\SAHIL\\Anaconda3\\lib\\site-packages\\ipykernel_launcher.py:14: FutureWarning: Method .as_matrix will be removed in a future version. Use .values instead.\n",
      "  \n",
      "C:\\Users\\SAHIL\\Anaconda3\\lib\\site-packages\\ipykernel_launcher.py:15: FutureWarning: Method .as_matrix will be removed in a future version. Use .values instead.\n",
      "  from ipykernel import kernelapp as app\n",
      "C:\\Users\\SAHIL\\Anaconda3\\lib\\site-packages\\ipykernel_launcher.py:17: FutureWarning: Method .as_matrix will be removed in a future version. Use .values instead.\n",
      "C:\\Users\\SAHIL\\Anaconda3\\lib\\site-packages\\ipykernel_launcher.py:18: FutureWarning: Method .as_matrix will be removed in a future version. Use .values instead.\n"
     ]
    }
   ],
   "source": [
    "train_sc_df = pd.DataFrame(train_sc, columns=['Y'], index=train.index)\n",
    "test_sc_df = pd.DataFrame(test_sc, columns=['Y'], index=test.index)\n",
    "\n",
    "for s in range(1,2):\n",
    "    train_sc_df['X_{}'.format(s)] = train_sc_df['Y'].shift(s)\n",
    "    test_sc_df['X_{}'.format(s)] = test_sc_df['Y'].shift(s)\n",
    "\n",
    "X_train = train_sc_df.dropna().drop('Y', axis=1)\n",
    "y_train = train_sc_df.dropna().drop('X_1', axis=1)\n",
    "\n",
    "X_test = test_sc_df.dropna().drop('Y', axis=1)\n",
    "y_test = test_sc_df.dropna().drop('X_1', axis=1)\n",
    "\n",
    "X_train = X_train.as_matrix()\n",
    "y_train = y_train.as_matrix()\n",
    "\n",
    "X_test = X_test.as_matrix()\n",
    "y_test = y_test.as_matrix()"
   ]
  },
  {
   "cell_type": "code",
   "execution_count": 60,
   "metadata": {},
   "outputs": [
    {
     "name": "stdout",
     "output_type": "stream",
     "text": [
      "Train shape:  (2261, 1, 1)\n",
      "Test shape:  (350, 1, 1)\n"
     ]
    }
   ],
   "source": [
    "X_train_lmse = X_train.reshape(X_train.shape[0], X_train.shape[1], 1)\n",
    "X_test_lmse = X_test.reshape(X_test.shape[0], X_test.shape[1], 1)\n",
    "\n",
    "print('Train shape: ', X_train_lmse.shape)\n",
    "print('Test shape: ', X_test_lmse.shape)"
   ]
  },
  {
   "cell_type": "code",
   "execution_count": 61,
   "metadata": {
    "scrolled": true
   },
   "outputs": [
    {
     "name": "stdout",
     "output_type": "stream",
     "text": [
      "Epoch 1/100\n",
      "2261/2261 [==============================] - 3s 1ms/step - loss: 0.0414\n",
      "Epoch 2/100\n",
      "2261/2261 [==============================] - 3s 1ms/step - loss: 0.0145\n",
      "Epoch 3/100\n",
      "2261/2261 [==============================] - 3s 1ms/step - loss: 0.0123\n",
      "Epoch 4/100\n",
      "2261/2261 [==============================] - 3s 1ms/step - loss: 0.0119\n",
      "Epoch 5/100\n",
      "2261/2261 [==============================] - 4s 2ms/step - loss: 0.0118\n",
      "Epoch 6/100\n",
      "2261/2261 [==============================] - 4s 2ms/step - loss: 0.0117\n",
      "Epoch 7/100\n",
      "2261/2261 [==============================] - 3s 1ms/step - loss: 0.0117\n",
      "Epoch 8/100\n",
      "2261/2261 [==============================] - 3s 1ms/step - loss: 0.0117\n",
      "Epoch 9/100\n",
      "2261/2261 [==============================] - 3s 1ms/step - loss: 0.0116\n",
      "Epoch 10/100\n",
      "2261/2261 [==============================] - 3s 1ms/step - loss: 0.0116\n",
      "Epoch 11/100\n",
      "2261/2261 [==============================] - 3s 1ms/step - loss: 0.0116\n",
      "Epoch 12/100\n",
      "2261/2261 [==============================] - 3s 1ms/step - loss: 0.0116\n",
      "Epoch 13/100\n",
      "2261/2261 [==============================] - 3s 1ms/step - loss: 0.0116\n",
      "Epoch 14/100\n",
      "2261/2261 [==============================] - 3s 1ms/step - loss: 0.0115\n",
      "Epoch 15/100\n",
      "2261/2261 [==============================] - 3s 1ms/step - loss: 0.0115\n",
      "Epoch 16/100\n",
      "2261/2261 [==============================] - 3s 1ms/step - loss: 0.0115\n",
      "Epoch 17/100\n",
      "2261/2261 [==============================] - 3s 1ms/step - loss: 0.0115\n",
      "Epoch 18/100\n",
      "2261/2261 [==============================] - 4s 2ms/step - loss: 0.0115\n",
      "Epoch 19/100\n",
      "2261/2261 [==============================] - 3s 1ms/step - loss: 0.0115\n",
      "Epoch 20/100\n",
      "2261/2261 [==============================] - 3s 1ms/step - loss: 0.0115\n",
      "Epoch 21/100\n",
      "2261/2261 [==============================] - 3s 1ms/step - loss: 0.0115\n",
      "Epoch 22/100\n",
      "2261/2261 [==============================] - 3s 1ms/step - loss: 0.0115\n",
      "Epoch 23/100\n",
      "2261/2261 [==============================] - 3s 1ms/step - loss: 0.0115\n",
      "Epoch 24/100\n",
      "2261/2261 [==============================] - 3s 1ms/step - loss: 0.0114\n",
      "Epoch 25/100\n",
      "2261/2261 [==============================] - 3s 1ms/step - loss: 0.0114\n",
      "Epoch 26/100\n",
      "2261/2261 [==============================] - 3s 1ms/step - loss: 0.0114\n",
      "Epoch 27/100\n",
      "2261/2261 [==============================] - 3s 1ms/step - loss: 0.0114\n",
      "Epoch 28/100\n",
      "2261/2261 [==============================] - 4s 2ms/step - loss: 0.0114\n",
      "Epoch 29/100\n",
      "2261/2261 [==============================] - 3s 1ms/step - loss: 0.0114\n",
      "Epoch 30/100\n",
      "2261/2261 [==============================] - 3s 1ms/step - loss: 0.0114\n",
      "Epoch 00030: early stopping\n"
     ]
    }
   ],
   "source": [
    "lstm_model = Sequential()\n",
    "lstm_model.add(LSTM(7, input_shape=(1, X_train_lmse.shape[1]), activation='relu', kernel_initializer='lecun_uniform', return_sequences=False))\n",
    "lstm_model.add(Dense(1))\n",
    "lstm_model.compile(loss='mean_squared_error', optimizer='adam')\n",
    "early_stop = EarlyStopping(monitor='loss', patience=2, verbose=1)\n",
    "history_lstm_model = lstm_model.fit(X_train_lmse, y_train, epochs=100, batch_size=1, verbose=1, shuffle=False, callbacks=[early_stop])"
   ]
  },
  {
   "cell_type": "code",
   "execution_count": 62,
   "metadata": {},
   "outputs": [
    {
     "name": "stdout",
     "output_type": "stream",
     "text": [
      "Model: \"sequential_5\"\n",
      "_________________________________________________________________\n",
      "Layer (type)                 Output Shape              Param #   \n",
      "=================================================================\n",
      "lstm_3 (LSTM)                (None, 7)                 252       \n",
      "_________________________________________________________________\n",
      "dense_5 (Dense)              (None, 1)                 8         \n",
      "=================================================================\n",
      "Total params: 260\n",
      "Trainable params: 260\n",
      "Non-trainable params: 0\n",
      "_________________________________________________________________\n"
     ]
    }
   ],
   "source": [
    "lstm_model.summary()"
   ]
  },
  {
   "cell_type": "code",
   "execution_count": 63,
   "metadata": {},
   "outputs": [],
   "source": [
    "y_pred_test_lstm = lstm_model.predict(X_test_lmse)\n",
    "y_train_pred_lstm = lstm_model.predict(X_train_lmse)"
   ]
  },
  {
   "cell_type": "code",
   "execution_count": 64,
   "metadata": {},
   "outputs": [
    {
     "name": "stdout",
     "output_type": "stream",
     "text": [
      "The R2 score on the Train set is:\t0.679\n",
      "The R2 score on the Test set is:\t0.823\n"
     ]
    }
   ],
   "source": [
    "print(\"The R2 score on the Train set is:\\t{:0.3f}\".format(r2_score(y_train, y_train_pred_lstm)))\n",
    "print(\"The R2 score on the Test set is:\\t{:0.3f}\".format(r2_score(y_test, y_pred_test_lstm)))"
   ]
  },
  {
   "cell_type": "code",
   "execution_count": 65,
   "metadata": {},
   "outputs": [
    {
     "name": "stdout",
     "output_type": "stream",
     "text": [
      "350/350 [==============================] - 0s 594us/step\n"
     ]
    }
   ],
   "source": [
    "lstm_test_mse = lstm_model.evaluate(X_test_lmse, y_test, batch_size=1)"
   ]
  },
  {
   "cell_type": "code",
   "execution_count": 66,
   "metadata": {},
   "outputs": [],
   "source": [
    "lstm_y_pred_test = lstm_model.predict(X_test_lmse)"
   ]
  },
  {
   "cell_type": "code",
   "execution_count": 67,
   "metadata": {},
   "outputs": [
    {
     "data": {
      "text/plain": [
       "array([[0.04294673],\n",
       "       [0.03513591],\n",
       "       [0.0215053 ]], dtype=float32)"
      ]
     },
     "execution_count": 67,
     "metadata": {},
     "output_type": "execute_result"
    }
   ],
   "source": [
    "lstm_y_pred_test[2:5]"
   ]
  },
  {
   "cell_type": "code",
   "execution_count": null,
   "metadata": {},
   "outputs": [],
   "source": []
  },
  {
   "cell_type": "code",
   "execution_count": null,
   "metadata": {},
   "outputs": [],
   "source": []
  },
  {
   "cell_type": "code",
   "execution_count": null,
   "metadata": {},
   "outputs": [],
   "source": []
  },
  {
   "cell_type": "code",
   "execution_count": 68,
   "metadata": {},
   "outputs": [
    {
     "data": {
      "image/png": "[encoded data removed]",
      "text/plain": [
       "<Figure size 720x432 with 1 Axes>"
      ]
     },
     "metadata": {
      "needs_background": "light"
     },
     "output_type": "display_data"
    }
   ],
   "source": [
    "plt.figure(figsize=(10, 6))\n",
    "plt.plot(y_test, label='True')\n",
    "plt.plot(y_pred_test_lstm, label='LSTM')\n",
    "plt.title(\"LSTM's Prediction\")\n",
    "plt.xlabel('Observation')\n",
    "plt.ylabel('Adj Close scaled')\n",
    "plt.legend()\n",
    "plt.show();"
   ]
  },
  {
   "cell_type": "code",
   "execution_count": null,
   "metadata": {},
   "outputs": [],
   "source": []
  },
  {
   "cell_type": "code",
   "execution_count": null,
   "metadata": {},
   "outputs": [],
   "source": []
  },
  {
   "cell_type": "code",
   "execution_count": null,
   "metadata": {},
   "outputs": [],
   "source": []
  },
  {
   "cell_type": "code",
   "execution_count": null,
   "metadata": {},
   "outputs": [],
   "source": []
  },
  {
   "cell_type": "code",
   "execution_count": null,
   "metadata": {},
   "outputs": [],
   "source": []
  },
  {
   "cell_type": "code",
   "execution_count": null,
   "metadata": {},
   "outputs": [],
   "source": []
  },
  {
   "cell_type": "code",
   "execution_count": null,
   "metadata": {},
   "outputs": [],
   "source": []
  },
  {
   "cell_type": "code",
   "execution_count": null,
   "metadata": {},
   "outputs": [],
   "source": []
  },
  {
   "cell_type": "code",
   "execution_count": null,
   "metadata": {},
   "outputs": [],
   "source": []
  }
 ],
 "metadata": {
  "kernelspec": {
   "display_name": "Python 3",
   "language": "python",
   "name": "python3"
  },
  "language_info": {
   "codemirror_mode": {
    "name": "ipython",
    "version": 3
   },
   "file_extension": ".py",
   "mimetype": "text/x-python",
   "name": "python",
   "nbconvert_exporter": "python",
   "pygments_lexer": "ipython3",
   "version": "3.7.4"
  }
 },
 "nbformat": 4,
 "nbformat_minor": 2
}
