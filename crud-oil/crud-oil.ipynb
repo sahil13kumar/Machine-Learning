{
 "cells": [
  {
   "cell_type": "code",
   "execution_count": 1,
   "metadata": {},
   "outputs": [],
   "source": [
    "import pandas as pd\n",
    "from scipy.stats import pearsonr\n",
    "from sklearn.model_selection import train_test_split\n",
    "from sklearn.ensemble import RandomForestRegressor\n",
    "from sklearn import linear_model\n",
    "from sklearn import neural_network\n",
    "import matplotlib.pyplot as plt"
   ]
  },
  {
   "cell_type": "code",
   "execution_count": 2,
   "metadata": {},
   "outputs": [],
   "source": [
    "train_percent = 0.80\n",
    "\n",
    "companies = ['BPCL.BO','HINDPETRO.NS','ONGC.NS']\n",
    "\n",
    "oilDataset = pd.read_csv('crud_oil.csv')\n",
    "oilDataset.columns = ['date', 'oil_price']\n",
    "oilDataset['date'] = pd.to_datetime(oilDataset['date'])"
   ]
  },
  {
   "cell_type": "code",
   "execution_count": 3,
   "metadata": {},
   "outputs": [],
   "source": [
    "#oilDataset.head(5)"
   ]
  },
  {
   "cell_type": "code",
   "execution_count": 4,
   "metadata": {},
   "outputs": [
    {
     "name": "stdout",
     "output_type": "stream",
     "text": [
      "Pearson Coefficients :-\n"
     ]
    }
   ],
   "source": [
    "removed_features = ['Open', 'High', 'Low', 'Volume', 'Close']\n",
    "print(\"Pearson Coefficients :-\")"
   ]
  },
  {
   "cell_type": "code",
   "execution_count": 5,
   "metadata": {},
   "outputs": [
    {
     "name": "stdout",
     "output_type": "stream",
     "text": [
      "BPCL.BO \t: 0.2729172280681904\n",
      "HINDPETRO.NS \t: 0.32929660227673524\n",
      "ONGC.NS \t: 0.39960560594267963\n"
     ]
    }
   ],
   "source": [
    "for company in companies:\n",
    "    #Wrangling / Filtering of stock price data    \n",
    "    stockDataset = pd.read_csv(company + '.csv')\n",
    "    stockDataset.drop(removed_features, axis = 1, inplace=True)\n",
    "    stockDataset.columns = ['date', 'adj_close']\n",
    "    stockDataset['date'] = pd.to_datetime(stockDataset['date'])\n",
    "    \n",
    "    #merge oil and stock datasets using date as foreign key\n",
    "    dataset = stockDataset.merge(oilDataset, on='date', how='right')\n",
    "    dataset['oil_price'] = pd.to_numeric(dataset['oil_price'], errors='coerce')\n",
    "    dataset['adj_close'] = pd.to_numeric(dataset['adj_close'], errors='coerce')\n",
    "    dataset = dataset.dropna(0)\n",
    "    \n",
    "    #drop date as it is no longer needed\n",
    "    datasetWithoutDate = dataset.drop('date', axis=1)\n",
    "    datasetWithoutDate = datasetWithoutDate[datasetWithoutDate.columns].astype(float)    \n",
    "    \n",
    "    #Co-relation coefficient\n",
    "    pearson, _ = pearsonr(dataset['oil_price'], dataset['adj_close'])\n",
    "    \n",
    "    print(company + \" \\t: \" + str(pearson))"
   ]
  },
  {
   "cell_type": "code",
   "execution_count": 6,
   "metadata": {},
   "outputs": [],
   "source": [
    "#stockDataset.head()"
   ]
  },
  {
   "cell_type": "code",
   "execution_count": 7,
   "metadata": {},
   "outputs": [],
   "source": [
    "#Split the dataset into training and testing data\n",
    "x_train, x_test, y_train, y_test = train_test_split(datasetWithoutDate['oil_price'],\n",
    "                                                    datasetWithoutDate['adj_close'], \n",
    "                                                                      train_size=train_percent,\n",
    "                                                                      test_size=1-train_percent)"
   ]
  },
  {
   "cell_type": "code",
   "execution_count": 8,
   "metadata": {},
   "outputs": [
    {
     "name": "stderr",
     "output_type": "stream",
     "text": [
      "C:\\Users\\SAHIL\\AppData\\Roaming\\Python\\Python37\\site-packages\\sklearn\\ensemble\\forest.py:245: FutureWarning: The default value of n_estimators will change from 10 in version 0.20 to 100 in 0.22.\n",
      "  \"10 in version 0.20 to 100 in 0.22.\", FutureWarning)\n",
      "C:\\Users\\SAHIL\\Anaconda3\\lib\\site-packages\\ipykernel_launcher.py:3: DataConversionWarning: A column-vector y was passed when a 1d array was expected. Please change the shape of y to (n_samples,), for example using ravel().\n",
      "  This is separate from the ipykernel package so we can avoid doing imports until\n"
     ]
    }
   ],
   "source": [
    "regressor = RandomForestRegressor()\n",
    "\n",
    "regressor.fit(pd.DataFrame(x_train), pd.DataFrame(y_train))\n",
    "\n",
    "y_pred = regressor.predict(pd.DataFrame(x_test))"
   ]
  },
  {
   "cell_type": "code",
   "execution_count": 16,
   "metadata": {},
   "outputs": [
    {
     "data": {
      "text/plain": [
       "(170,)"
      ]
     },
     "execution_count": 16,
     "metadata": {},
     "output_type": "execute_result"
    }
   ],
   "source": [
    "x_test.shape"
   ]
  },
  {
   "cell_type": "code",
   "execution_count": 18,
   "metadata": {},
   "outputs": [
    {
     "data": {
      "text/plain": [
       "(170,)"
      ]
     },
     "execution_count": 18,
     "metadata": {},
     "output_type": "execute_result"
    }
   ],
   "source": [
    "y_test.shape"
   ]
  },
  {
   "cell_type": "code",
   "execution_count": 19,
   "metadata": {},
   "outputs": [
    {
     "data": {
      "text/plain": [
       "(677,)"
      ]
     },
     "execution_count": 19,
     "metadata": {},
     "output_type": "execute_result"
    }
   ],
   "source": [
    "x_train.shape"
   ]
  },
  {
   "cell_type": "code",
   "execution_count": 20,
   "metadata": {},
   "outputs": [
    {
     "data": {
      "text/plain": [
       "(677,)"
      ]
     },
     "execution_count": 20,
     "metadata": {},
     "output_type": "execute_result"
    }
   ],
   "source": [
    "y_train.shape"
   ]
  },
  {
   "cell_type": "code",
   "execution_count": 9,
   "metadata": {},
   "outputs": [
    {
     "data": {
      "text/plain": [
       "Text(0, 0.5, 'Adjusted Closing Price')"
      ]
     },
     "execution_count": 9,
     "metadata": {},
     "output_type": "execute_result"
    },
    {
     "data": {
      "image/png": "[encoded data removed]",
      "text/plain": [
       "<Figure size 432x288 with 1 Axes>"
      ]
     },
     "metadata": {
      "needs_background": "light"
     },
     "output_type": "display_data"
    }
   ],
   "source": [
    "plt.figure()\n",
    "\n",
    "plt.subplot(221)\n",
    "plt.scatter(x=x_test, y=y_test)\n",
    "plt.title('Actual')\n",
    "\n",
    "plt.xlabel('Oil Price in Dollar per Unit')\n",
    "plt.ylabel('Adjusted Closing Price')"
   ]
  },
  {
   "cell_type": "code",
   "execution_count": 10,
   "metadata": {},
   "outputs": [
    {
     "data": {
      "text/plain": [
       "Text(0, 0.5, 'Adjusted Closing Price')"
      ]
     },
     "execution_count": 10,
     "metadata": {},
     "output_type": "execute_result"
    },
    {
     "data": {
      "image/png": "[encoded data removed]",
      "text/plain": [
       "<Figure size 432x288 with 1 Axes>"
      ]
     },
     "metadata": {
      "needs_background": "light"
     },
     "output_type": "display_data"
    }
   ],
   "source": [
    "plt.subplot(222)\n",
    "plt.scatter(x=x_test, y=y_pred)\n",
    "plt.title('Predicted')\n",
    "\n",
    "plt.xlabel('Oil Price in Dollar per Unit')\n",
    "plt.ylabel('Adjusted Closing Price')"
   ]
  },
  {
   "cell_type": "code",
   "execution_count": 11,
   "metadata": {},
   "outputs": [
    {
     "data": {
      "image/png": "[encoded data removed]",
      "text/plain": [
       "<Figure size 432x288 with 1 Axes>"
      ]
     },
     "metadata": {
      "needs_background": "light"
     },
     "output_type": "display_data"
    }
   ],
   "source": [
    "plt.subplot(223)\n",
    "plt.scatter(x=x_test, y=y_test)\n",
    "plt.scatter(x=x_test, y=y_pred)\n",
    "plt.legend(['Actual', 'Predicted'])\n",
    "plt.title('Both')\n",
    "\n",
    "plt.xlabel('Oil Price in Dollar per Unit')\n",
    "plt.ylabel('Adjusted Closing Price')\n",
    "\n",
    "plt.tight_layout()"
   ]
  },
  {
   "cell_type": "code",
   "execution_count": 14,
   "metadata": {},
   "outputs": [
    {
     "data": {
      "text/plain": [
       "-0.1393343312587716"
      ]
     },
     "execution_count": 14,
     "metadata": {},
     "output_type": "execute_result"
    }
   ],
   "source": [
    "regressor.score(pd.DataFrame(x_test), pd.DataFrame(y_test))"
   ]
  },
  {
   "cell_type": "code",
   "execution_count": null,
   "metadata": {},
   "outputs": [],
   "source": []
  }
 ],
 "metadata": {
  "kernelspec": {
   "display_name": "Python 3",
   "language": "python",
   "name": "python3"
  },
  "language_info": {
   "codemirror_mode": {
    "name": "ipython",
    "version": 3
   },
   "file_extension": ".py",
   "mimetype": "text/x-python",
   "name": "python",
   "nbconvert_exporter": "python",
   "pygments_lexer": "ipython3",
   "version": "3.7.4"
  }
 },
 "nbformat": 4,
 "nbformat_minor": 2
}
