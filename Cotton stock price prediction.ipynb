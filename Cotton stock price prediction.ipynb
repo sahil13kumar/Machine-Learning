{
 "cells": [
  {
   "cell_type": "code",
   "execution_count": 1,
   "metadata": {},
   "outputs": [
    {
     "name": "stderr",
     "output_type": "stream",
     "text": [
      "Using TensorFlow backend.\n"
     ]
    }
   ],
   "source": [
    "import math\n",
    "import pandas_datareader as web\n",
    "import numpy as np\n",
    "import pandas as pd\n",
    "from sklearn.preprocessing import MinMaxScaler\n",
    "from keras.models import Sequential\n",
    "from keras.layers import Dense, LSTM,GRU,Bidirectional,Dropout\n",
    "import matplotlib.pyplot as plt"
   ]
  },
  {
   "cell_type": "code",
   "execution_count": 2,
   "metadata": {
    "scrolled": true
   },
   "outputs": [
    {
     "data": {
      "text/html": [
       "<div>\n",
       "<style scoped>\n",
       "    .dataframe tbody tr th:only-of-type {\n",
       "        vertical-align: middle;\n",
       "    }\n",
       "\n",
       "    .dataframe tbody tr th {\n",
       "        vertical-align: top;\n",
       "    }\n",
       "\n",
       "    .dataframe thead th {\n",
       "        text-align: right;\n",
       "    }\n",
       "</style>\n",
       "<table border=\"1\" class=\"dataframe\">\n",
       "  <thead>\n",
       "    <tr style=\"text-align: right;\">\n",
       "      <th></th>\n",
       "      <th>High</th>\n",
       "      <th>Low</th>\n",
       "      <th>Open</th>\n",
       "      <th>Close</th>\n",
       "      <th>Volume</th>\n",
       "      <th>Adj Close</th>\n",
       "    </tr>\n",
       "    <tr>\n",
       "      <th>Date</th>\n",
       "      <th></th>\n",
       "      <th></th>\n",
       "      <th></th>\n",
       "      <th></th>\n",
       "      <th></th>\n",
       "      <th></th>\n",
       "    </tr>\n",
       "  </thead>\n",
       "  <tbody>\n",
       "    <tr>\n",
       "      <td>2004-09-09</td>\n",
       "      <td>14.100000</td>\n",
       "      <td>13.300000</td>\n",
       "      <td>14.000000</td>\n",
       "      <td>14.080000</td>\n",
       "      <td>3325.0</td>\n",
       "      <td>4.492620</td>\n",
       "    </tr>\n",
       "    <tr>\n",
       "      <td>2004-09-10</td>\n",
       "      <td>14.160000</td>\n",
       "      <td>13.410000</td>\n",
       "      <td>13.410000</td>\n",
       "      <td>13.800000</td>\n",
       "      <td>5315.0</td>\n",
       "      <td>4.403280</td>\n",
       "    </tr>\n",
       "    <tr>\n",
       "      <td>2004-09-13</td>\n",
       "      <td>14.300000</td>\n",
       "      <td>13.990000</td>\n",
       "      <td>13.990000</td>\n",
       "      <td>14.000000</td>\n",
       "      <td>82895.0</td>\n",
       "      <td>4.467096</td>\n",
       "    </tr>\n",
       "    <tr>\n",
       "      <td>2004-09-14</td>\n",
       "      <td>14.200000</td>\n",
       "      <td>13.100000</td>\n",
       "      <td>14.100000</td>\n",
       "      <td>13.700000</td>\n",
       "      <td>13195.0</td>\n",
       "      <td>4.371372</td>\n",
       "    </tr>\n",
       "    <tr>\n",
       "      <td>2004-09-15</td>\n",
       "      <td>14.000000</td>\n",
       "      <td>13.360000</td>\n",
       "      <td>13.820000</td>\n",
       "      <td>13.500000</td>\n",
       "      <td>54940.0</td>\n",
       "      <td>4.307557</td>\n",
       "    </tr>\n",
       "    <tr>\n",
       "      <td>...</td>\n",
       "      <td>...</td>\n",
       "      <td>...</td>\n",
       "      <td>...</td>\n",
       "      <td>...</td>\n",
       "      <td>...</td>\n",
       "      <td>...</td>\n",
       "    </tr>\n",
       "    <tr>\n",
       "      <td>2020-01-13</td>\n",
       "      <td>141.500000</td>\n",
       "      <td>138.050003</td>\n",
       "      <td>139.149994</td>\n",
       "      <td>138.399994</td>\n",
       "      <td>122517.0</td>\n",
       "      <td>138.399994</td>\n",
       "    </tr>\n",
       "    <tr>\n",
       "      <td>2020-01-14</td>\n",
       "      <td>141.199997</td>\n",
       "      <td>136.149994</td>\n",
       "      <td>139.100006</td>\n",
       "      <td>139.149994</td>\n",
       "      <td>188923.0</td>\n",
       "      <td>139.149994</td>\n",
       "    </tr>\n",
       "    <tr>\n",
       "      <td>2020-01-15</td>\n",
       "      <td>145.050003</td>\n",
       "      <td>138.500000</td>\n",
       "      <td>138.949997</td>\n",
       "      <td>143.199997</td>\n",
       "      <td>406437.0</td>\n",
       "      <td>143.199997</td>\n",
       "    </tr>\n",
       "    <tr>\n",
       "      <td>2020-01-16</td>\n",
       "      <td>144.550003</td>\n",
       "      <td>140.250000</td>\n",
       "      <td>143.899994</td>\n",
       "      <td>141.750000</td>\n",
       "      <td>123790.0</td>\n",
       "      <td>141.750000</td>\n",
       "    </tr>\n",
       "    <tr>\n",
       "      <td>2020-01-17</td>\n",
       "      <td>145.449997</td>\n",
       "      <td>140.350006</td>\n",
       "      <td>141.050003</td>\n",
       "      <td>144.899994</td>\n",
       "      <td>234432.0</td>\n",
       "      <td>144.899994</td>\n",
       "    </tr>\n",
       "  </tbody>\n",
       "</table>\n",
       "<p>3778 rows × 6 columns</p>\n",
       "</div>"
      ],
      "text/plain": [
       "                  High         Low        Open       Close    Volume  \\\n",
       "Date                                                                   \n",
       "2004-09-09   14.100000   13.300000   14.000000   14.080000    3325.0   \n",
       "2004-09-10   14.160000   13.410000   13.410000   13.800000    5315.0   \n",
       "2004-09-13   14.300000   13.990000   13.990000   14.000000   82895.0   \n",
       "2004-09-14   14.200000   13.100000   14.100000   13.700000   13195.0   \n",
       "2004-09-15   14.000000   13.360000   13.820000   13.500000   54940.0   \n",
       "...                ...         ...         ...         ...       ...   \n",
       "2020-01-13  141.500000  138.050003  139.149994  138.399994  122517.0   \n",
       "2020-01-14  141.199997  136.149994  139.100006  139.149994  188923.0   \n",
       "2020-01-15  145.050003  138.500000  138.949997  143.199997  406437.0   \n",
       "2020-01-16  144.550003  140.250000  143.899994  141.750000  123790.0   \n",
       "2020-01-17  145.449997  140.350006  141.050003  144.899994  234432.0   \n",
       "\n",
       "             Adj Close  \n",
       "Date                    \n",
       "2004-09-09    4.492620  \n",
       "2004-09-10    4.403280  \n",
       "2004-09-13    4.467096  \n",
       "2004-09-14    4.371372  \n",
       "2004-09-15    4.307557  \n",
       "...                ...  \n",
       "2020-01-13  138.399994  \n",
       "2020-01-14  139.149994  \n",
       "2020-01-15  143.199997  \n",
       "2020-01-16  141.750000  \n",
       "2020-01-17  144.899994  \n",
       "\n",
       "[3778 rows x 6 columns]"
      ]
     },
     "execution_count": 2,
     "metadata": {},
     "output_type": "execute_result"
    }
   ],
   "source": [
    "df = web.DataReader('GREAVESCOT.NS', data_source='yahoo', start='2002-01-01', end='2020-01-17')\n",
    "#Show teh data\n",
    "df"
   ]
  },
  {
   "cell_type": "code",
   "execution_count": 3,
   "metadata": {},
   "outputs": [],
   "source": [
    "# import pandas_datareader.data as web on monthly basis\n",
    "\n",
    "# data = web.get_data_yahoo('GREAVESCOT.NS','01/01/2015','2019-12-17',interval='m')\n",
    "# data"
   ]
  },
  {
   "cell_type": "code",
   "execution_count": 4,
   "metadata": {
    "scrolled": false
   },
   "outputs": [
    {
     "name": "stderr",
     "output_type": "stream",
     "text": [
      "C:\\Users\\SAHIL\\Anaconda3\\lib\\site-packages\\pandas\\plotting\\_matplotlib\\converter.py:103: FutureWarning: Using an implicitly registered datetime converter for a matplotlib plotting method. The converter was registered by pandas on import. Future versions of pandas will require you to explicitly register matplotlib converters.\n",
      "\n",
      "To register the converters:\n",
      "\t>>> from pandas.plotting import register_matplotlib_converters\n",
      "\t>>> register_matplotlib_converters()\n",
      "  warnings.warn(msg, FutureWarning)\n"
     ]
    },
    {
     "data": {
      "image/png": "[encoded data removed]",
      "text/plain": [
       "<Figure size 864x576 with 1 Axes>"
      ]
     },
     "metadata": {
      "needs_background": "light"
     },
     "output_type": "display_data"
    }
   ],
   "source": [
    "plt.figure(figsize=(12,8))\n",
    "plt.title('Close Price History')\n",
    "plt.plot(df['Close'])\n",
    "plt.xlabel('Date', fontsize=18)\n",
    "plt.ylabel('Close Price USD ($)', fontsize=18)\n",
    "plt.show()"
   ]
  },
  {
   "cell_type": "code",
   "execution_count": 5,
   "metadata": {},
   "outputs": [
    {
     "data": {
      "text/plain": [
       "3023"
      ]
     },
     "execution_count": 5,
     "metadata": {},
     "output_type": "execute_result"
    }
   ],
   "source": [
    "data = df.filter(['Close'])\n",
    "#Convert the dataframe to a numpy array\n",
    "dataset = data.values\n",
    "dataset = np.array(data)\n",
    "#Get the number of rows to train the model on\n",
    "training_data_len = math.ceil( len(dataset) * .8 )\n",
    "\n",
    "training_data_len"
   ]
  },
  {
   "cell_type": "code",
   "execution_count": 6,
   "metadata": {},
   "outputs": [
    {
     "data": {
      "text/plain": [
       "array([[0.02449848],\n",
       "       [0.02279635],\n",
       "       [0.02401216],\n",
       "       ...,\n",
       "       [0.80942246],\n",
       "       [0.80060789],\n",
       "       [0.81975679]])"
      ]
     },
     "execution_count": 6,
     "metadata": {},
     "output_type": "execute_result"
    }
   ],
   "source": [
    "#Scale the data\n",
    "scaler = MinMaxScaler(feature_range=(0,1))\n",
    "scaled_data = scaler.fit_transform(dataset)\n",
    "\n",
    "scaled_data"
   ]
  },
  {
   "cell_type": "code",
   "execution_count": 7,
   "metadata": {
    "scrolled": true
   },
   "outputs": [
    {
     "name": "stdout",
     "output_type": "stream",
     "text": [
      "[array([0.02449848, 0.02279635, 0.02401216, 0.02218845, 0.02097264,\n",
      "       0.02285714, 0.02297872, 0.02279635, 0.02723404, 0.03227963,\n",
      "       0.03148936, 0.03088146, 0.03240121, 0.03452887, 0.03617021,\n",
      "       0.03531915, 0.03458966, 0.03714285, 0.03598784, 0.03598784,\n",
      "       0.0368997 , 0.03860182, 0.03659574, 0.0343465 , 0.03477204,\n",
      "       0.03483282, 0.03300911, 0.03221885, 0.03130699, 0.03635259,\n",
      "       0.03544073, 0.03507598, 0.03683891, 0.03969605, 0.04072948,\n",
      "       0.0593313 , 0.05787234, 0.05471124, 0.05392097, 0.05647416,\n",
      "       0.05355623, 0.05088146, 0.05647416, 0.05617022, 0.0649848 ,\n",
      "       0.06522797, 0.06790273, 0.06382978, 0.05860182, 0.06024315,\n",
      "       0.06139817, 0.06218845, 0.06164134, 0.06054711, 0.06437689,\n",
      "       0.06735562, 0.06139817, 0.06151976, 0.06218845, 0.06224924])]\n",
      "[0.06243160684176957]\n",
      "\n",
      "[array([0.02449848, 0.02279635, 0.02401216, 0.02218845, 0.02097264,\n",
      "       0.02285714, 0.02297872, 0.02279635, 0.02723404, 0.03227963,\n",
      "       0.03148936, 0.03088146, 0.03240121, 0.03452887, 0.03617021,\n",
      "       0.03531915, 0.03458966, 0.03714285, 0.03598784, 0.03598784,\n",
      "       0.0368997 , 0.03860182, 0.03659574, 0.0343465 , 0.03477204,\n",
      "       0.03483282, 0.03300911, 0.03221885, 0.03130699, 0.03635259,\n",
      "       0.03544073, 0.03507598, 0.03683891, 0.03969605, 0.04072948,\n",
      "       0.0593313 , 0.05787234, 0.05471124, 0.05392097, 0.05647416,\n",
      "       0.05355623, 0.05088146, 0.05647416, 0.05617022, 0.0649848 ,\n",
      "       0.06522797, 0.06790273, 0.06382978, 0.05860182, 0.06024315,\n",
      "       0.06139817, 0.06218845, 0.06164134, 0.06054711, 0.06437689,\n",
      "       0.06735562, 0.06139817, 0.06151976, 0.06218845, 0.06224924]), array([0.02279635, 0.02401216, 0.02218845, 0.02097264, 0.02285714,\n",
      "       0.02297872, 0.02279635, 0.02723404, 0.03227963, 0.03148936,\n",
      "       0.03088146, 0.03240121, 0.03452887, 0.03617021, 0.03531915,\n",
      "       0.03458966, 0.03714285, 0.03598784, 0.03598784, 0.0368997 ,\n",
      "       0.03860182, 0.03659574, 0.0343465 , 0.03477204, 0.03483282,\n",
      "       0.03300911, 0.03221885, 0.03130699, 0.03635259, 0.03544073,\n",
      "       0.03507598, 0.03683891, 0.03969605, 0.04072948, 0.0593313 ,\n",
      "       0.05787234, 0.05471124, 0.05392097, 0.05647416, 0.05355623,\n",
      "       0.05088146, 0.05647416, 0.05617022, 0.0649848 , 0.06522797,\n",
      "       0.06790273, 0.06382978, 0.05860182, 0.06024315, 0.06139817,\n",
      "       0.06218845, 0.06164134, 0.06054711, 0.06437689, 0.06735562,\n",
      "       0.06139817, 0.06151976, 0.06218845, 0.06224924, 0.06243161])]\n",
      "[0.06243160684176957, 0.06437689370656415]\n",
      "\n"
     ]
    }
   ],
   "source": [
    "#Create the training data set\n",
    "#Create the scaled training data set\n",
    "train_data = scaled_data[0:training_data_len , :]\n",
    "#Split the data into x_train and y_train data sets\n",
    "x_train = []\n",
    "y_train = []\n",
    "\n",
    "for i in range(60, len(train_data)):\n",
    "    x_train.append(train_data[i-60:i, 0])\n",
    "    y_train.append(train_data[i, 0])\n",
    "    if i<= 61:\n",
    "        print(x_train)\n",
    "        print(y_train)\n",
    "        print()"
   ]
  },
  {
   "cell_type": "code",
   "execution_count": 8,
   "metadata": {},
   "outputs": [],
   "source": [
    "x_train, y_train = np.array(x_train), np.array(y_train)"
   ]
  },
  {
   "cell_type": "code",
   "execution_count": 9,
   "metadata": {},
   "outputs": [
    {
     "data": {
      "text/plain": [
       "(2963, 60, 1)"
      ]
     },
     "execution_count": 9,
     "metadata": {},
     "output_type": "execute_result"
    }
   ],
   "source": [
    "#Reshape the data\n",
    "x_train = np.reshape(x_train, (x_train.shape[0], x_train.shape[1], 1))\n",
    "x_train.shape"
   ]
  },
  {
   "cell_type": "code",
   "execution_count": 10,
   "metadata": {},
   "outputs": [],
   "source": [
    "#Build the LSTM model\n",
    "model = Sequential()\n",
    "model.add(GRU(50, return_sequences=True, input_shape= (x_train.shape[1], 1)))\n",
    "model.add(Dropout(0.2))\n",
    "model.add(GRU(50, return_sequences= False))\n",
    "model.add(Dense(25))\n",
    "model.add(Dense(1))"
   ]
  },
  {
   "cell_type": "code",
   "execution_count": 11,
   "metadata": {},
   "outputs": [],
   "source": [
    "#Compile the model\n",
    "model.compile(optimizer='adam', loss='mean_squared_error')"
   ]
  },
  {
   "cell_type": "code",
   "execution_count": 12,
   "metadata": {},
   "outputs": [
    {
     "name": "stdout",
     "output_type": "stream",
     "text": [
      "Epoch 1/1\n",
      "2963/2963 [==============================] - 123s 41ms/step - loss: 0.0015\n"
     ]
    },
    {
     "data": {
      "text/plain": [
       "<keras.callbacks.callbacks.History at 0x1f9b04b0b48>"
      ]
     },
     "execution_count": 12,
     "metadata": {},
     "output_type": "execute_result"
    }
   ],
   "source": [
    "#Train the model\n",
    "model.fit(x_train, y_train, batch_size=1, epochs=1)"
   ]
  },
  {
   "cell_type": "code",
   "execution_count": 13,
   "metadata": {},
   "outputs": [],
   "source": [
    "test_data = scaled_data[training_data_len - 60: , :]\n",
    "#Create the data sets x_test and y_test\n",
    "x_test = []\n",
    "y_test = dataset[training_data_len:, :]\n",
    "for i in range(60, len(test_data)):\n",
    "    x_test.append(test_data[i-60:i, 0])"
   ]
  },
  {
   "cell_type": "code",
   "execution_count": 14,
   "metadata": {},
   "outputs": [],
   "source": [
    "#Convert the data to a numpy array\n",
    "x_test = np.array(x_test)"
   ]
  },
  {
   "cell_type": "code",
   "execution_count": 15,
   "metadata": {},
   "outputs": [],
   "source": [
    "#np.savetxt(\"close.csv\", x_test, delimiter=\",\")"
   ]
  },
  {
   "cell_type": "code",
   "execution_count": 16,
   "metadata": {},
   "outputs": [],
   "source": [
    "#Reshape the data\n",
    "x_test = np.reshape(x_test, (x_test.shape[0], x_test.shape[1], 1 ))"
   ]
  },
  {
   "cell_type": "code",
   "execution_count": 17,
   "metadata": {},
   "outputs": [],
   "source": [
    "#Get the models predicted price values \n",
    "predictions = model.predict(x_test)\n",
    "predictions = scaler.inverse_transform(predictions)"
   ]
  },
  {
   "cell_type": "code",
   "execution_count": 19,
   "metadata": {},
   "outputs": [
    {
     "data": {
      "text/plain": [
       "3.611746438651659"
      ]
     },
     "execution_count": 19,
     "metadata": {},
     "output_type": "execute_result"
    }
   ],
   "source": [
    "#Get the root mean squared error (RMSE)\n",
    "rmse=np.sqrt(np.mean(((predictions- y_test)**2)))\n",
    "rmse"
   ]
  },
  {
   "cell_type": "code",
   "execution_count": 20,
   "metadata": {
    "scrolled": false
   },
   "outputs": [
    {
     "name": "stderr",
     "output_type": "stream",
     "text": [
      "C:\\Users\\SAHIL\\Anaconda3\\lib\\site-packages\\ipykernel_launcher.py:4: SettingWithCopyWarning: \n",
      "A value is trying to be set on a copy of a slice from a DataFrame.\n",
      "Try using .loc[row_indexer,col_indexer] = value instead\n",
      "\n",
      "See the caveats in the documentation: http://pandas.pydata.org/pandas-docs/stable/user_guide/indexing.html#returning-a-view-versus-a-copy\n",
      "  after removing the cwd from sys.path.\n"
     ]
    },
    {
     "data": {
      "image/png": "[encoded data removed]",
      "text/plain": [
       "<Figure size 1152x576 with 1 Axes>"
      ]
     },
     "metadata": {
      "needs_background": "light"
     },
     "output_type": "display_data"
    }
   ],
   "source": [
    "#Plot the data\n",
    "train = data[:training_data_len]\n",
    "valid = data[training_data_len:]\n",
    "valid['Predictions'] = predictions\n",
    "#Visualize the data\n",
    "plt.figure(figsize=(16,8))\n",
    "plt.title('Model')\n",
    "plt.xlabel('Date', fontsize=18)\n",
    "plt.ylabel('Close Price', fontsize=18)\n",
    "plt.plot(train['Close'])\n",
    "plt.plot(valid[['Close', 'Predictions']])\n",
    "plt.legend(['Train', 'Val', 'Predictions'], loc='lower right')\n",
    "plt.show()"
   ]
  },
  {
   "cell_type": "code",
   "execution_count": 21,
   "metadata": {},
   "outputs": [
    {
     "data": {
      "text/html": [
       "<div>\n",
       "<style scoped>\n",
       "    .dataframe tbody tr th:only-of-type {\n",
       "        vertical-align: middle;\n",
       "    }\n",
       "\n",
       "    .dataframe tbody tr th {\n",
       "        vertical-align: top;\n",
       "    }\n",
       "\n",
       "    .dataframe thead th {\n",
       "        text-align: right;\n",
       "    }\n",
       "</style>\n",
       "<table border=\"1\" class=\"dataframe\">\n",
       "  <thead>\n",
       "    <tr style=\"text-align: right;\">\n",
       "      <th></th>\n",
       "      <th>Close</th>\n",
       "      <th>Predictions</th>\n",
       "    </tr>\n",
       "    <tr>\n",
       "      <th>Date</th>\n",
       "      <th></th>\n",
       "      <th></th>\n",
       "    </tr>\n",
       "  </thead>\n",
       "  <tbody>\n",
       "    <tr>\n",
       "      <td>2016-12-23</td>\n",
       "      <td>119.699997</td>\n",
       "      <td>119.988831</td>\n",
       "    </tr>\n",
       "    <tr>\n",
       "      <td>2016-12-26</td>\n",
       "      <td>117.400002</td>\n",
       "      <td>119.393303</td>\n",
       "    </tr>\n",
       "    <tr>\n",
       "      <td>2016-12-27</td>\n",
       "      <td>118.800003</td>\n",
       "      <td>118.149361</td>\n",
       "    </tr>\n",
       "    <tr>\n",
       "      <td>2016-12-28</td>\n",
       "      <td>119.449997</td>\n",
       "      <td>117.853447</td>\n",
       "    </tr>\n",
       "    <tr>\n",
       "      <td>2016-12-29</td>\n",
       "      <td>119.000000</td>\n",
       "      <td>118.098656</td>\n",
       "    </tr>\n",
       "    <tr>\n",
       "      <td>...</td>\n",
       "      <td>...</td>\n",
       "      <td>...</td>\n",
       "    </tr>\n",
       "    <tr>\n",
       "      <td>2020-01-13</td>\n",
       "      <td>138.399994</td>\n",
       "      <td>137.277328</td>\n",
       "    </tr>\n",
       "    <tr>\n",
       "      <td>2020-01-14</td>\n",
       "      <td>139.149994</td>\n",
       "      <td>137.310471</td>\n",
       "    </tr>\n",
       "    <tr>\n",
       "      <td>2020-01-15</td>\n",
       "      <td>143.199997</td>\n",
       "      <td>137.553345</td>\n",
       "    </tr>\n",
       "    <tr>\n",
       "      <td>2020-01-16</td>\n",
       "      <td>141.750000</td>\n",
       "      <td>139.352325</td>\n",
       "    </tr>\n",
       "    <tr>\n",
       "      <td>2020-01-17</td>\n",
       "      <td>144.899994</td>\n",
       "      <td>140.072723</td>\n",
       "    </tr>\n",
       "  </tbody>\n",
       "</table>\n",
       "<p>755 rows × 2 columns</p>\n",
       "</div>"
      ],
      "text/plain": [
       "                 Close  Predictions\n",
       "Date                               \n",
       "2016-12-23  119.699997   119.988831\n",
       "2016-12-26  117.400002   119.393303\n",
       "2016-12-27  118.800003   118.149361\n",
       "2016-12-28  119.449997   117.853447\n",
       "2016-12-29  119.000000   118.098656\n",
       "...                ...          ...\n",
       "2020-01-13  138.399994   137.277328\n",
       "2020-01-14  139.149994   137.310471\n",
       "2020-01-15  143.199997   137.553345\n",
       "2020-01-16  141.750000   139.352325\n",
       "2020-01-17  144.899994   140.072723\n",
       "\n",
       "[755 rows x 2 columns]"
      ]
     },
     "execution_count": 21,
     "metadata": {},
     "output_type": "execute_result"
    }
   ],
   "source": [
    "valid"
   ]
  },
  {
   "cell_type": "code",
   "execution_count": 112,
   "metadata": {},
   "outputs": [
    {
     "data": {
      "text/plain": [
       "pandas.core.frame.DataFrame"
      ]
     },
     "execution_count": 112,
     "metadata": {},
     "output_type": "execute_result"
    }
   ],
   "source": [
    "type(valid)"
   ]
  },
  {
   "cell_type": "code",
   "execution_count": 22,
   "metadata": {},
   "outputs": [
    {
     "name": "stdout",
     "output_type": "stream",
     "text": [
      "[[141.56352]]\n"
     ]
    }
   ],
   "source": [
    "#Get the quote\n",
    "apple_quote = web.DataReader('GREAVESCOT.NS', data_source='yahoo', start='2012-01-01', end='2020-01-18')\n",
    "#Create a new dataframe\n",
    "new_df = apple_quote.filter(['Close'])\n",
    "#Get teh last 60 day closing price values and convert the dataframe to an array\n",
    "last_60_days = new_df[-60:].values\n",
    "#Scale the data to be values between 0 and 1\n",
    "last_60_days_scaled = scaler.transform(last_60_days)\n",
    "#Create an empty list\n",
    "X_test = []\n",
    "#Append teh past 60 days\n",
    "X_test.append(last_60_days_scaled)\n",
    "#Convert the X_test data set to a numpy array\n",
    "X_test = np.array(X_test)\n",
    "#Reshape the data\n",
    "X_test = np.reshape(X_test, (X_test.shape[0], X_test.shape[1], 1))\n",
    "#Get the predicted scaled price\n",
    "pred_price = model.predict(X_test)\n",
    "#undo the scaling \n",
    "pred_price = scaler.inverse_transform(pred_price)\n",
    "print(pred_price)"
   ]
  },
  {
   "cell_type": "code",
   "execution_count": 24,
   "metadata": {},
   "outputs": [
    {
     "data": {
      "text/plain": [
       "array([[141.56352]], dtype=float32)"
      ]
     },
     "execution_count": 24,
     "metadata": {},
     "output_type": "execute_result"
    }
   ],
   "source": [
    "pred_price"
   ]
  },
  {
   "cell_type": "code",
   "execution_count": null,
   "metadata": {},
   "outputs": [],
   "source": []
  },
  {
   "cell_type": "code",
   "execution_count": null,
   "metadata": {},
   "outputs": [],
   "source": []
  }
 ],
 "metadata": {
  "kernelspec": {
   "display_name": "Python 3",
   "language": "python",
   "name": "python3"
  },
  "language_info": {
   "codemirror_mode": {
    "name": "ipython",
    "version": 3
   },
   "file_extension": ".py",
   "mimetype": "text/x-python",
   "name": "python",
   "nbconvert_exporter": "python",
   "pygments_lexer": "ipython3",
   "version": "3.7.4"
  }
 },
 "nbformat": 4,
 "nbformat_minor": 2
}
