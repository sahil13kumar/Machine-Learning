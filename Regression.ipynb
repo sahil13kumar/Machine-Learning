{
 "cells": [
  {
   "cell_type": "code",
   "execution_count": 1,
   "metadata": {},
   "outputs": [],
   "source": [
    "import numpy as np\n",
    "import pandas as pd\n",
    "from sklearn.preprocessing import MinMaxScaler"
   ]
  },
  {
   "cell_type": "code",
   "execution_count": 2,
   "metadata": {},
   "outputs": [],
   "source": [
    "df1 = pd.read_csv('Updated.csv')"
   ]
  },
  {
   "cell_type": "code",
   "execution_count": 3,
   "metadata": {},
   "outputs": [],
   "source": [
    "df1['DCOILWTICO'] = df1['DCOILWTICO'].fillna(df1['DCOILWTICO'].mean())"
   ]
  },
  {
   "cell_type": "code",
   "execution_count": 4,
   "metadata": {},
   "outputs": [
    {
     "data": {
      "text/plain": [
       "(984, 26)"
      ]
     },
     "execution_count": 4,
     "metadata": {},
     "output_type": "execute_result"
    }
   ],
   "source": [
    "df1.shape"
   ]
  },
  {
   "cell_type": "code",
   "execution_count": 5,
   "metadata": {},
   "outputs": [
    {
     "data": {
      "text/plain": [
       "Index(['Unnamed: 0', 'LAT', 'LON', 'YEAR', 'MO', 'DY', 'PRECTOT', 'PS', 'RH2M',\n",
       "       'QV2M', 'T2M', 'T2M_MAX', 'T2M_MIN', 'T2M_RANGE', 'WS10M_RANGE',\n",
       "       'WS50M_RANGE', 'WS50M', 'WS10M', 'Date', 'Open', 'High', 'Low', 'Close',\n",
       "       'Adj Close', 'Volume', 'DCOILWTICO'],\n",
       "      dtype='object')"
      ]
     },
     "execution_count": 5,
     "metadata": {},
     "output_type": "execute_result"
    }
   ],
   "source": [
    "df1.columns"
   ]
  },
  {
   "cell_type": "code",
   "execution_count": 6,
   "metadata": {},
   "outputs": [
    {
     "data": {
      "text/html": [
       "<div>\n",
       "<style scoped>\n",
       "    .dataframe tbody tr th:only-of-type {\n",
       "        vertical-align: middle;\n",
       "    }\n",
       "\n",
       "    .dataframe tbody tr th {\n",
       "        vertical-align: top;\n",
       "    }\n",
       "\n",
       "    .dataframe thead th {\n",
       "        text-align: right;\n",
       "    }\n",
       "</style>\n",
       "<table border=\"1\" class=\"dataframe\">\n",
       "  <thead>\n",
       "    <tr style=\"text-align: right;\">\n",
       "      <th></th>\n",
       "      <th>Unnamed: 0</th>\n",
       "      <th>LAT</th>\n",
       "      <th>LON</th>\n",
       "      <th>YEAR</th>\n",
       "      <th>MO</th>\n",
       "      <th>DY</th>\n",
       "      <th>PRECTOT</th>\n",
       "      <th>PS</th>\n",
       "      <th>RH2M</th>\n",
       "      <th>QV2M</th>\n",
       "      <th>...</th>\n",
       "      <th>WS50M</th>\n",
       "      <th>WS10M</th>\n",
       "      <th>Date</th>\n",
       "      <th>Open</th>\n",
       "      <th>High</th>\n",
       "      <th>Low</th>\n",
       "      <th>Close</th>\n",
       "      <th>Adj Close</th>\n",
       "      <th>Volume</th>\n",
       "      <th>DCOILWTICO</th>\n",
       "    </tr>\n",
       "  </thead>\n",
       "  <tbody>\n",
       "    <tr>\n",
       "      <td>0</td>\n",
       "      <td>0</td>\n",
       "      <td>28.72461</td>\n",
       "      <td>77.15821</td>\n",
       "      <td>2015</td>\n",
       "      <td>1</td>\n",
       "      <td>1</td>\n",
       "      <td>0.01</td>\n",
       "      <td>99.15</td>\n",
       "      <td>42.18</td>\n",
       "      <td>0.004591</td>\n",
       "      <td>...</td>\n",
       "      <td>2.65</td>\n",
       "      <td>1.82</td>\n",
       "      <td>2015-01-01</td>\n",
       "      <td>152.000000</td>\n",
       "      <td>152.600006</td>\n",
       "      <td>146.000000</td>\n",
       "      <td>147.199997</td>\n",
       "      <td>122.386963</td>\n",
       "      <td>15984.0</td>\n",
       "      <td>52.72</td>\n",
       "    </tr>\n",
       "    <tr>\n",
       "      <td>1</td>\n",
       "      <td>1</td>\n",
       "      <td>28.72461</td>\n",
       "      <td>77.15821</td>\n",
       "      <td>2015</td>\n",
       "      <td>1</td>\n",
       "      <td>5</td>\n",
       "      <td>0.01</td>\n",
       "      <td>99.05</td>\n",
       "      <td>41.71</td>\n",
       "      <td>0.003888</td>\n",
       "      <td>...</td>\n",
       "      <td>8.78</td>\n",
       "      <td>5.61</td>\n",
       "      <td>2015-01-05</td>\n",
       "      <td>144.399994</td>\n",
       "      <td>148.850006</td>\n",
       "      <td>143.199997</td>\n",
       "      <td>143.550003</td>\n",
       "      <td>119.352272</td>\n",
       "      <td>25427.0</td>\n",
       "      <td>59.10</td>\n",
       "    </tr>\n",
       "    <tr>\n",
       "      <td>2</td>\n",
       "      <td>2</td>\n",
       "      <td>28.72461</td>\n",
       "      <td>77.15821</td>\n",
       "      <td>2015</td>\n",
       "      <td>1</td>\n",
       "      <td>6</td>\n",
       "      <td>0.00</td>\n",
       "      <td>98.88</td>\n",
       "      <td>50.84</td>\n",
       "      <td>0.004822</td>\n",
       "      <td>...</td>\n",
       "      <td>6.02</td>\n",
       "      <td>3.74</td>\n",
       "      <td>2015-01-06</td>\n",
       "      <td>143.350006</td>\n",
       "      <td>150.500000</td>\n",
       "      <td>139.100006</td>\n",
       "      <td>143.600006</td>\n",
       "      <td>119.393822</td>\n",
       "      <td>80909.0</td>\n",
       "      <td>60.24</td>\n",
       "    </tr>\n",
       "    <tr>\n",
       "      <td>3</td>\n",
       "      <td>3</td>\n",
       "      <td>28.72461</td>\n",
       "      <td>77.15821</td>\n",
       "      <td>2015</td>\n",
       "      <td>1</td>\n",
       "      <td>7</td>\n",
       "      <td>0.00</td>\n",
       "      <td>98.95</td>\n",
       "      <td>52.04</td>\n",
       "      <td>0.004727</td>\n",
       "      <td>...</td>\n",
       "      <td>5.19</td>\n",
       "      <td>3.25</td>\n",
       "      <td>2015-01-07</td>\n",
       "      <td>144.000000</td>\n",
       "      <td>146.649994</td>\n",
       "      <td>141.000000</td>\n",
       "      <td>144.199997</td>\n",
       "      <td>119.892700</td>\n",
       "      <td>21921.0</td>\n",
       "      <td>56.94</td>\n",
       "    </tr>\n",
       "    <tr>\n",
       "      <td>4</td>\n",
       "      <td>4</td>\n",
       "      <td>28.72461</td>\n",
       "      <td>77.15821</td>\n",
       "      <td>2015</td>\n",
       "      <td>1</td>\n",
       "      <td>12</td>\n",
       "      <td>0.00</td>\n",
       "      <td>99.22</td>\n",
       "      <td>33.01</td>\n",
       "      <td>0.003002</td>\n",
       "      <td>...</td>\n",
       "      <td>4.28</td>\n",
       "      <td>2.66</td>\n",
       "      <td>2015-01-12</td>\n",
       "      <td>156.500000</td>\n",
       "      <td>159.350006</td>\n",
       "      <td>151.149994</td>\n",
       "      <td>152.300003</td>\n",
       "      <td>126.627296</td>\n",
       "      <td>79161.0</td>\n",
       "      <td>40.58</td>\n",
       "    </tr>\n",
       "  </tbody>\n",
       "</table>\n",
       "<p>5 rows × 26 columns</p>\n",
       "</div>"
      ],
      "text/plain": [
       "   Unnamed: 0       LAT       LON  YEAR  MO  DY  PRECTOT     PS   RH2M  \\\n",
       "0           0  28.72461  77.15821  2015   1   1     0.01  99.15  42.18   \n",
       "1           1  28.72461  77.15821  2015   1   5     0.01  99.05  41.71   \n",
       "2           2  28.72461  77.15821  2015   1   6     0.00  98.88  50.84   \n",
       "3           3  28.72461  77.15821  2015   1   7     0.00  98.95  52.04   \n",
       "4           4  28.72461  77.15821  2015   1  12     0.00  99.22  33.01   \n",
       "\n",
       "       QV2M  ...  WS50M  WS10M        Date        Open        High  \\\n",
       "0  0.004591  ...   2.65   1.82  2015-01-01  152.000000  152.600006   \n",
       "1  0.003888  ...   8.78   5.61  2015-01-05  144.399994  148.850006   \n",
       "2  0.004822  ...   6.02   3.74  2015-01-06  143.350006  150.500000   \n",
       "3  0.004727  ...   5.19   3.25  2015-01-07  144.000000  146.649994   \n",
       "4  0.003002  ...   4.28   2.66  2015-01-12  156.500000  159.350006   \n",
       "\n",
       "          Low       Close   Adj Close   Volume  DCOILWTICO  \n",
       "0  146.000000  147.199997  122.386963  15984.0       52.72  \n",
       "1  143.199997  143.550003  119.352272  25427.0       59.10  \n",
       "2  139.100006  143.600006  119.393822  80909.0       60.24  \n",
       "3  141.000000  144.199997  119.892700  21921.0       56.94  \n",
       "4  151.149994  152.300003  126.627296  79161.0       40.58  \n",
       "\n",
       "[5 rows x 26 columns]"
      ]
     },
     "execution_count": 6,
     "metadata": {},
     "output_type": "execute_result"
    }
   ],
   "source": [
    "df1.head()"
   ]
  },
  {
   "cell_type": "code",
   "execution_count": 7,
   "metadata": {},
   "outputs": [],
   "source": [
    "#df3.insert(6, \"Close\", \"Any\")"
   ]
  },
  {
   "cell_type": "code",
   "execution_count": 8,
   "metadata": {},
   "outputs": [],
   "source": [
    "#df3.insert(5, \"prevDayPrice\", \"Any\")"
   ]
  },
  {
   "cell_type": "code",
   "execution_count": 9,
   "metadata": {},
   "outputs": [],
   "source": [
    "df1['Close']=df1['Close'].fillna(df1['Close'].mean())"
   ]
  },
  {
   "cell_type": "code",
   "execution_count": 10,
   "metadata": {},
   "outputs": [],
   "source": [
    "#df3 = df1[['PRECTOT','PS','RH2M','QV2M','T2M']]"
   ]
  },
  {
   "cell_type": "code",
   "execution_count": 11,
   "metadata": {},
   "outputs": [],
   "source": [
    "df3=df1[['PRECTOT', 'PS', 'RH2M', 'QV2M',\n",
    "       'T2M', 'T2M_MAX', 'T2M_MIN', 'T2M_RANGE', 'WS10M_RANGE', 'WS50M_RANGE',\n",
    "       'WS50M', 'WS10M','DCOILWTICO']]"
   ]
  },
  {
   "cell_type": "code",
   "execution_count": 12,
   "metadata": {},
   "outputs": [],
   "source": [
    "df3.insert(13, \"prevDayPrice\", \"Any\")"
   ]
  },
  {
   "cell_type": "code",
   "execution_count": 13,
   "metadata": {},
   "outputs": [
    {
     "data": {
      "text/plain": [
       "984"
      ]
     },
     "execution_count": 13,
     "metadata": {},
     "output_type": "execute_result"
    }
   ],
   "source": [
    "len(df3)"
   ]
  },
  {
   "cell_type": "code",
   "execution_count": 14,
   "metadata": {},
   "outputs": [
    {
     "data": {
      "text/html": [
       "<div>\n",
       "<style scoped>\n",
       "    .dataframe tbody tr th:only-of-type {\n",
       "        vertical-align: middle;\n",
       "    }\n",
       "\n",
       "    .dataframe tbody tr th {\n",
       "        vertical-align: top;\n",
       "    }\n",
       "\n",
       "    .dataframe thead th {\n",
       "        text-align: right;\n",
       "    }\n",
       "</style>\n",
       "<table border=\"1\" class=\"dataframe\">\n",
       "  <thead>\n",
       "    <tr style=\"text-align: right;\">\n",
       "      <th></th>\n",
       "      <th>PRECTOT</th>\n",
       "      <th>PS</th>\n",
       "      <th>RH2M</th>\n",
       "      <th>QV2M</th>\n",
       "      <th>T2M</th>\n",
       "      <th>T2M_MAX</th>\n",
       "      <th>T2M_MIN</th>\n",
       "      <th>T2M_RANGE</th>\n",
       "      <th>WS10M_RANGE</th>\n",
       "      <th>WS50M_RANGE</th>\n",
       "      <th>WS50M</th>\n",
       "      <th>WS10M</th>\n",
       "      <th>DCOILWTICO</th>\n",
       "      <th>prevDayPrice</th>\n",
       "    </tr>\n",
       "  </thead>\n",
       "  <tbody>\n",
       "    <tr>\n",
       "      <td>0</td>\n",
       "      <td>0.01</td>\n",
       "      <td>99.15</td>\n",
       "      <td>42.18</td>\n",
       "      <td>0.004591</td>\n",
       "      <td>15.21</td>\n",
       "      <td>24.04</td>\n",
       "      <td>8.01</td>\n",
       "      <td>16.03</td>\n",
       "      <td>1.97</td>\n",
       "      <td>3.38</td>\n",
       "      <td>2.65</td>\n",
       "      <td>1.82</td>\n",
       "      <td>52.72</td>\n",
       "      <td>Any</td>\n",
       "    </tr>\n",
       "    <tr>\n",
       "      <td>1</td>\n",
       "      <td>0.01</td>\n",
       "      <td>99.05</td>\n",
       "      <td>41.71</td>\n",
       "      <td>0.003888</td>\n",
       "      <td>12.82</td>\n",
       "      <td>22.46</td>\n",
       "      <td>6.37</td>\n",
       "      <td>16.09</td>\n",
       "      <td>4.00</td>\n",
       "      <td>3.09</td>\n",
       "      <td>8.78</td>\n",
       "      <td>5.61</td>\n",
       "      <td>59.10</td>\n",
       "      <td>Any</td>\n",
       "    </tr>\n",
       "    <tr>\n",
       "      <td>2</td>\n",
       "      <td>0.00</td>\n",
       "      <td>98.88</td>\n",
       "      <td>50.84</td>\n",
       "      <td>0.004822</td>\n",
       "      <td>13.05</td>\n",
       "      <td>22.27</td>\n",
       "      <td>6.67</td>\n",
       "      <td>15.60</td>\n",
       "      <td>2.54</td>\n",
       "      <td>4.39</td>\n",
       "      <td>6.02</td>\n",
       "      <td>3.74</td>\n",
       "      <td>60.24</td>\n",
       "      <td>Any</td>\n",
       "    </tr>\n",
       "    <tr>\n",
       "      <td>3</td>\n",
       "      <td>0.00</td>\n",
       "      <td>98.95</td>\n",
       "      <td>52.04</td>\n",
       "      <td>0.004727</td>\n",
       "      <td>12.40</td>\n",
       "      <td>21.19</td>\n",
       "      <td>6.21</td>\n",
       "      <td>14.98</td>\n",
       "      <td>2.09</td>\n",
       "      <td>3.45</td>\n",
       "      <td>5.19</td>\n",
       "      <td>3.25</td>\n",
       "      <td>56.94</td>\n",
       "      <td>Any</td>\n",
       "    </tr>\n",
       "    <tr>\n",
       "      <td>4</td>\n",
       "      <td>0.00</td>\n",
       "      <td>99.22</td>\n",
       "      <td>33.01</td>\n",
       "      <td>0.003002</td>\n",
       "      <td>12.47</td>\n",
       "      <td>23.98</td>\n",
       "      <td>4.37</td>\n",
       "      <td>19.61</td>\n",
       "      <td>3.50</td>\n",
       "      <td>5.65</td>\n",
       "      <td>4.28</td>\n",
       "      <td>2.66</td>\n",
       "      <td>40.58</td>\n",
       "      <td>Any</td>\n",
       "    </tr>\n",
       "  </tbody>\n",
       "</table>\n",
       "</div>"
      ],
      "text/plain": [
       "   PRECTOT     PS   RH2M      QV2M    T2M  T2M_MAX  T2M_MIN  T2M_RANGE  \\\n",
       "0     0.01  99.15  42.18  0.004591  15.21    24.04     8.01      16.03   \n",
       "1     0.01  99.05  41.71  0.003888  12.82    22.46     6.37      16.09   \n",
       "2     0.00  98.88  50.84  0.004822  13.05    22.27     6.67      15.60   \n",
       "3     0.00  98.95  52.04  0.004727  12.40    21.19     6.21      14.98   \n",
       "4     0.00  99.22  33.01  0.003002  12.47    23.98     4.37      19.61   \n",
       "\n",
       "   WS10M_RANGE  WS50M_RANGE  WS50M  WS10M  DCOILWTICO prevDayPrice  \n",
       "0         1.97         3.38   2.65   1.82       52.72          Any  \n",
       "1         4.00         3.09   8.78   5.61       59.10          Any  \n",
       "2         2.54         4.39   6.02   3.74       60.24          Any  \n",
       "3         2.09         3.45   5.19   3.25       56.94          Any  \n",
       "4         3.50         5.65   4.28   2.66       40.58          Any  "
      ]
     },
     "execution_count": 14,
     "metadata": {},
     "output_type": "execute_result"
    }
   ],
   "source": [
    "df3.head()"
   ]
  },
  {
   "cell_type": "code",
   "execution_count": 15,
   "metadata": {},
   "outputs": [
    {
     "data": {
      "text/plain": [
       "0"
      ]
     },
     "execution_count": 15,
     "metadata": {},
     "output_type": "execute_result"
    }
   ],
   "source": [
    "df3.isnull().values.sum()"
   ]
  },
  {
   "cell_type": "markdown",
   "metadata": {},
   "source": [
    "As today's price is depending upon yesterday's price"
   ]
  },
  {
   "cell_type": "code",
   "execution_count": 16,
   "metadata": {},
   "outputs": [
    {
     "name": "stderr",
     "output_type": "stream",
     "text": [
      "C:\\Users\\SAHIL\\Anaconda3\\lib\\site-packages\\ipykernel_launcher.py:3: SettingWithCopyWarning: \n",
      "A value is trying to be set on a copy of a slice from a DataFrame\n",
      "\n",
      "See the caveats in the documentation: http://pandas.pydata.org/pandas-docs/stable/user_guide/indexing.html#returning-a-view-versus-a-copy\n",
      "  This is separate from the ipykernel package so we can avoid doing imports until\n",
      "C:\\Users\\SAHIL\\Anaconda3\\lib\\site-packages\\IPython\\core\\interactiveshell.py:3326: SettingWithCopyWarning: \n",
      "A value is trying to be set on a copy of a slice from a DataFrame\n",
      "\n",
      "See the caveats in the documentation: http://pandas.pydata.org/pandas-docs/stable/user_guide/indexing.html#returning-a-view-versus-a-copy\n",
      "  exec(code_obj, self.user_global_ns, self.user_ns)\n",
      "C:\\Users\\SAHIL\\Anaconda3\\lib\\site-packages\\ipykernel_launcher.py:5: SettingWithCopyWarning: \n",
      "A value is trying to be set on a copy of a slice from a DataFrame\n",
      "\n",
      "See the caveats in the documentation: http://pandas.pydata.org/pandas-docs/stable/user_guide/indexing.html#returning-a-view-versus-a-copy\n",
      "  \"\"\"\n"
     ]
    }
   ],
   "source": [
    "for i in range(len(df3)):\n",
    "    if(i==0):\n",
    "        df3['prevDayPrice'][i] = df1['Close'].mean()\n",
    "    else:\n",
    "        df3['prevDayPrice'][i] = df1['Close'][i-1]"
   ]
  },
  {
   "cell_type": "code",
   "execution_count": 17,
   "metadata": {},
   "outputs": [],
   "source": [
    "X = df3\n",
    "Y = df1[['Close']]"
   ]
  },
  {
   "cell_type": "code",
   "execution_count": 18,
   "metadata": {},
   "outputs": [
    {
     "data": {
      "text/plain": [
       "pandas.core.frame.DataFrame"
      ]
     },
     "execution_count": 18,
     "metadata": {},
     "output_type": "execute_result"
    }
   ],
   "source": [
    "type(X)"
   ]
  },
  {
   "cell_type": "code",
   "execution_count": 19,
   "metadata": {},
   "outputs": [
    {
     "data": {
      "text/plain": [
       "pandas.core.frame.DataFrame"
      ]
     },
     "execution_count": 19,
     "metadata": {},
     "output_type": "execute_result"
    }
   ],
   "source": [
    "type(Y)"
   ]
  },
  {
   "cell_type": "code",
   "execution_count": 21,
   "metadata": {},
   "outputs": [],
   "source": [
    "#df"
   ]
  },
  {
   "cell_type": "code",
   "execution_count": 22,
   "metadata": {},
   "outputs": [],
   "source": [
    "#feature_name = ['PRECTOT','PS','RH2M','QV2M','T2M']"
   ]
  },
  {
   "cell_type": "code",
   "execution_count": 23,
   "metadata": {},
   "outputs": [],
   "source": [
    "# def normalize(df):\n",
    "#     result = df.copy()\n",
    "#     for feature_name in df.columns:\n",
    "#         max_value = df[feature_name].max()\n",
    "#         min_value = df[feature_name].min()\n",
    "#         result[feature_name] = (df[feature_name] - min_value) / (max_value - min_value)\n",
    "#     return result"
   ]
  },
  {
   "cell_type": "code",
   "execution_count": 24,
   "metadata": {},
   "outputs": [],
   "source": [
    "#X = np.asarray(X)"
   ]
  },
  {
   "cell_type": "code",
   "execution_count": 25,
   "metadata": {},
   "outputs": [],
   "source": [
    "#X = X.values #returns a numpy array\n",
    "min_max_scaler = MinMaxScaler()\n",
    "x_scaled = min_max_scaler.fit_transform(X)\n",
    "X = pd.DataFrame(x_scaled)"
   ]
  },
  {
   "cell_type": "code",
   "execution_count": null,
   "metadata": {},
   "outputs": [],
   "source": []
  },
  {
   "cell_type": "code",
   "execution_count": 26,
   "metadata": {},
   "outputs": [
    {
     "data": {
      "text/html": [
       "<div>\n",
       "<style scoped>\n",
       "    .dataframe tbody tr th:only-of-type {\n",
       "        vertical-align: middle;\n",
       "    }\n",
       "\n",
       "    .dataframe tbody tr th {\n",
       "        vertical-align: top;\n",
       "    }\n",
       "\n",
       "    .dataframe thead th {\n",
       "        text-align: right;\n",
       "    }\n",
       "</style>\n",
       "<table border=\"1\" class=\"dataframe\">\n",
       "  <thead>\n",
       "    <tr style=\"text-align: right;\">\n",
       "      <th></th>\n",
       "      <th>0</th>\n",
       "      <th>1</th>\n",
       "      <th>2</th>\n",
       "      <th>3</th>\n",
       "      <th>4</th>\n",
       "      <th>5</th>\n",
       "      <th>6</th>\n",
       "      <th>7</th>\n",
       "      <th>8</th>\n",
       "      <th>9</th>\n",
       "      <th>10</th>\n",
       "      <th>11</th>\n",
       "      <th>12</th>\n",
       "      <th>13</th>\n",
       "    </tr>\n",
       "  </thead>\n",
       "  <tbody>\n",
       "    <tr>\n",
       "      <td>0</td>\n",
       "      <td>0.948917</td>\n",
       "      <td>0.999509</td>\n",
       "      <td>0.957178</td>\n",
       "      <td>0.999982</td>\n",
       "      <td>0.976009</td>\n",
       "      <td>0.977489</td>\n",
       "      <td>0.974557</td>\n",
       "      <td>0.992306</td>\n",
       "      <td>0.993864</td>\n",
       "      <td>0.993715</td>\n",
       "      <td>0.992784</td>\n",
       "      <td>0.994327</td>\n",
       "      <td>0.517962</td>\n",
       "      <td>0.366773</td>\n",
       "    </tr>\n",
       "    <tr>\n",
       "      <td>1</td>\n",
       "      <td>0.948917</td>\n",
       "      <td>0.999417</td>\n",
       "      <td>0.956746</td>\n",
       "      <td>0.999982</td>\n",
       "      <td>0.973709</td>\n",
       "      <td>0.975979</td>\n",
       "      <td>0.972970</td>\n",
       "      <td>0.992365</td>\n",
       "      <td>0.995879</td>\n",
       "      <td>0.993427</td>\n",
       "      <td>0.998860</td>\n",
       "      <td>0.998092</td>\n",
       "      <td>0.642522</td>\n",
       "      <td>0.552202</td>\n",
       "    </tr>\n",
       "    <tr>\n",
       "      <td>2</td>\n",
       "      <td>0.948907</td>\n",
       "      <td>0.999263</td>\n",
       "      <td>0.965139</td>\n",
       "      <td>0.999983</td>\n",
       "      <td>0.973930</td>\n",
       "      <td>0.975798</td>\n",
       "      <td>0.973260</td>\n",
       "      <td>0.991886</td>\n",
       "      <td>0.994430</td>\n",
       "      <td>0.994716</td>\n",
       "      <td>0.996125</td>\n",
       "      <td>0.996235</td>\n",
       "      <td>0.664779</td>\n",
       "      <td>0.492659</td>\n",
       "    </tr>\n",
       "    <tr>\n",
       "      <td>3</td>\n",
       "      <td>0.948907</td>\n",
       "      <td>0.999326</td>\n",
       "      <td>0.966243</td>\n",
       "      <td>0.999982</td>\n",
       "      <td>0.973305</td>\n",
       "      <td>0.974766</td>\n",
       "      <td>0.972815</td>\n",
       "      <td>0.991280</td>\n",
       "      <td>0.993983</td>\n",
       "      <td>0.993784</td>\n",
       "      <td>0.995302</td>\n",
       "      <td>0.995748</td>\n",
       "      <td>0.600351</td>\n",
       "      <td>0.493475</td>\n",
       "    </tr>\n",
       "    <tr>\n",
       "      <td>4</td>\n",
       "      <td>0.948907</td>\n",
       "      <td>0.999572</td>\n",
       "      <td>0.948748</td>\n",
       "      <td>0.999981</td>\n",
       "      <td>0.973372</td>\n",
       "      <td>0.977432</td>\n",
       "      <td>0.971035</td>\n",
       "      <td>0.995806</td>\n",
       "      <td>0.995383</td>\n",
       "      <td>0.995965</td>\n",
       "      <td>0.994400</td>\n",
       "      <td>0.995162</td>\n",
       "      <td>0.280945</td>\n",
       "      <td>0.503263</td>\n",
       "    </tr>\n",
       "  </tbody>\n",
       "</table>\n",
       "</div>"
      ],
      "text/plain": [
       "          0         1         2         3         4         5         6  \\\n",
       "0  0.948917  0.999509  0.957178  0.999982  0.976009  0.977489  0.974557   \n",
       "1  0.948917  0.999417  0.956746  0.999982  0.973709  0.975979  0.972970   \n",
       "2  0.948907  0.999263  0.965139  0.999983  0.973930  0.975798  0.973260   \n",
       "3  0.948907  0.999326  0.966243  0.999982  0.973305  0.974766  0.972815   \n",
       "4  0.948907  0.999572  0.948748  0.999981  0.973372  0.977432  0.971035   \n",
       "\n",
       "          7         8         9        10        11        12        13  \n",
       "0  0.992306  0.993864  0.993715  0.992784  0.994327  0.517962  0.366773  \n",
       "1  0.992365  0.995879  0.993427  0.998860  0.998092  0.642522  0.552202  \n",
       "2  0.991886  0.994430  0.994716  0.996125  0.996235  0.664779  0.492659  \n",
       "3  0.991280  0.993983  0.993784  0.995302  0.995748  0.600351  0.493475  \n",
       "4  0.995806  0.995383  0.995965  0.994400  0.995162  0.280945  0.503263  "
      ]
     },
     "execution_count": 26,
     "metadata": {},
     "output_type": "execute_result"
    }
   ],
   "source": [
    "X.head()"
   ]
  },
  {
   "cell_type": "code",
   "execution_count": 27,
   "metadata": {},
   "outputs": [
    {
     "data": {
      "text/plain": [
       "pandas.core.frame.DataFrame"
      ]
     },
     "execution_count": 27,
     "metadata": {},
     "output_type": "execute_result"
    }
   ],
   "source": [
    "type(X)"
   ]
  },
  {
   "cell_type": "code",
   "execution_count": 28,
   "metadata": {},
   "outputs": [
    {
     "data": {
      "text/plain": [
       "pandas.core.frame.DataFrame"
      ]
     },
     "execution_count": 28,
     "metadata": {},
     "output_type": "execute_result"
    }
   ],
   "source": [
    "type(Y)"
   ]
  },
  {
   "cell_type": "code",
   "execution_count": 29,
   "metadata": {},
   "outputs": [],
   "source": [
    "from sklearn.model_selection import train_test_split\n",
    "X_train,X_test,y_train,y_test = train_test_split(X,Y,test_size = 0.10,random_state =4)"
   ]
  },
  {
   "cell_type": "code",
   "execution_count": 30,
   "metadata": {},
   "outputs": [],
   "source": [
    "from sklearn.linear_model import LinearRegression\n",
    "reg = LinearRegression()\n",
    "\n",
    "reg = reg.fit(X_train,y_train)"
   ]
  },
  {
   "cell_type": "code",
   "execution_count": 31,
   "metadata": {},
   "outputs": [],
   "source": [
    "y_pred = reg.predict(X_test)"
   ]
  },
  {
   "cell_type": "code",
   "execution_count": 32,
   "metadata": {},
   "outputs": [
    {
     "data": {
      "text/plain": [
       "(0.9119937372133612, 0.9419542449772857)"
      ]
     },
     "execution_count": 32,
     "metadata": {},
     "output_type": "execute_result"
    }
   ],
   "source": [
    "reg.score(X_test,y_test),reg.score(X_train,y_train)"
   ]
  },
  {
   "cell_type": "code",
   "execution_count": 33,
   "metadata": {},
   "outputs": [
    {
     "data": {
      "text/html": [
       "<div>\n",
       "<style scoped>\n",
       "    .dataframe tbody tr th:only-of-type {\n",
       "        vertical-align: middle;\n",
       "    }\n",
       "\n",
       "    .dataframe tbody tr th {\n",
       "        vertical-align: top;\n",
       "    }\n",
       "\n",
       "    .dataframe thead th {\n",
       "        text-align: right;\n",
       "    }\n",
       "</style>\n",
       "<table border=\"1\" class=\"dataframe\">\n",
       "  <thead>\n",
       "    <tr style=\"text-align: right;\">\n",
       "      <th></th>\n",
       "      <th>Close</th>\n",
       "    </tr>\n",
       "  </thead>\n",
       "  <tbody>\n",
       "    <tr>\n",
       "      <td>646</td>\n",
       "      <td>129.699997</td>\n",
       "    </tr>\n",
       "    <tr>\n",
       "      <td>846</td>\n",
       "      <td>149.949997</td>\n",
       "    </tr>\n",
       "    <tr>\n",
       "      <td>595</td>\n",
       "      <td>137.050003</td>\n",
       "    </tr>\n",
       "    <tr>\n",
       "      <td>747</td>\n",
       "      <td>116.150002</td>\n",
       "    </tr>\n",
       "    <tr>\n",
       "      <td>260</td>\n",
       "      <td>135.850006</td>\n",
       "    </tr>\n",
       "    <tr>\n",
       "      <td>...</td>\n",
       "      <td>...</td>\n",
       "    </tr>\n",
       "    <tr>\n",
       "      <td>507</td>\n",
       "      <td>163.000000</td>\n",
       "    </tr>\n",
       "    <tr>\n",
       "      <td>948</td>\n",
       "      <td>135.833198</td>\n",
       "    </tr>\n",
       "    <tr>\n",
       "      <td>238</td>\n",
       "      <td>122.699997</td>\n",
       "    </tr>\n",
       "    <tr>\n",
       "      <td>239</td>\n",
       "      <td>122.199997</td>\n",
       "    </tr>\n",
       "    <tr>\n",
       "      <td>642</td>\n",
       "      <td>120.449997</td>\n",
       "    </tr>\n",
       "  </tbody>\n",
       "</table>\n",
       "<p>99 rows × 1 columns</p>\n",
       "</div>"
      ],
      "text/plain": [
       "          Close\n",
       "646  129.699997\n",
       "846  149.949997\n",
       "595  137.050003\n",
       "747  116.150002\n",
       "260  135.850006\n",
       "..          ...\n",
       "507  163.000000\n",
       "948  135.833198\n",
       "238  122.699997\n",
       "239  122.199997\n",
       "642  120.449997\n",
       "\n",
       "[99 rows x 1 columns]"
      ]
     },
     "execution_count": 33,
     "metadata": {},
     "output_type": "execute_result"
    }
   ],
   "source": [
    "y_test"
   ]
  },
  {
   "cell_type": "code",
   "execution_count": 34,
   "metadata": {},
   "outputs": [],
   "source": [
    "import matplotlib.pyplot as plt"
   ]
  },
  {
   "cell_type": "code",
   "execution_count": 35,
   "metadata": {},
   "outputs": [
    {
     "data": {
      "text/plain": [
       "<matplotlib.collections.PathCollection at 0x21130f4b308>"
      ]
     },
     "execution_count": 35,
     "metadata": {},
     "output_type": "execute_result"
    },
    {
     "data": {
      "image/png": "[encoded data removed]",
      "text/plain": [
       "<Figure size 432x288 with 1 Axes>"
      ]
     },
     "metadata": {
      "needs_background": "light"
     },
     "output_type": "display_data"
    }
   ],
   "source": [
    "plt.scatter(y_test,y_pred)"
   ]
  },
  {
   "cell_type": "code",
   "execution_count": null,
   "metadata": {},
   "outputs": [],
   "source": []
  }
 ],
 "metadata": {
  "kernelspec": {
   "display_name": "Python 3",
   "language": "python",
   "name": "python3"
  },
  "language_info": {
   "codemirror_mode": {
    "name": "ipython",
    "version": 3
   },
   "file_extension": ".py",
   "mimetype": "text/x-python",
   "name": "python",
   "nbconvert_exporter": "python",
   "pygments_lexer": "ipython3",
   "version": "3.7.4"
  }
 },
 "nbformat": 4,
 "nbformat_minor": 2
}
